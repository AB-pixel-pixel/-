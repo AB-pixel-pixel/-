{
 "cells": [
  {
   "cell_type": "markdown",
   "metadata": {},
   "source": [
    "# 机器学习的工作流程\n",
    "\n",
    "我们在**拿到一个机器学习问题之后，要做的第一件事就是制作出我们的机器学习项目清单**。下面给出了一个可供参考的机器学习项目清单，它应该适用于大多数机器学习项目，虽然确切的实现细节可能有所不同，但机器学习项目的一般结构保持相对稳定：\n",
    "\n",
    "1. 数据清理和格式化\n",
    "\n",
    "2. 探索性数据分析\n",
    "\n",
    "3. 特征工程和特征选择\n",
    "\n",
    "4. 基于性能指标比较几种机器学习模型\n",
    "\n",
    "5. 对最佳模型执行超参数调整\n",
    "\n",
    "6. 在测试集上评估最佳模型\n",
    "\n",
    "7. 解释模型结果\n",
    "\n",
    "8. 得出结论\n",
    "\n",
    "\n",
    "提前设置机器学习管道结构让我们看到每一步是如何流入另一步的。但是，机器学习管道是一个迭代过程，因此我们并不总是以线性方式遵循这些步骤。我们可能会根据管道下游的结果重新审视上一步。例如，\n",
    "* 虽然我们可以在构建任何模型之前执行特征选择，但我们可以使用建模结果返回并选择一组不同的特征。 \n",
    "* 或者，建模可能会出现意想不到的结果，这意味着我们希望从另一个角度探索我们的数据。 \n",
    "* 一般来说，你必须完成一步才能继续下一步，但不要觉得一旦你第一次完成一步，你就不能回头做出改进！你可以在任何时候返回前面的步骤并作出相应的修改"
   ]
  },
  {
   "cell_type": "markdown",
   "metadata": {},
   "source": [
    "# 导入库\n",
    "\n",
    "使用标准的数据科学和机器学习库：`numpy，pandas`和`scikit-learn`。 使用`matplotlib`和`seaborn`进行可视化。"
   ]
  },
  {
   "cell_type": "code",
   "execution_count": null,
   "metadata": {},
   "outputs": [],
   "source": [
    "#用于数据操作的 Pandas和numpy\n",
    "import pandas as pd\n",
    "import numpy as np"
   ]
  },
  {
   "cell_type": "code",
   "execution_count": null,
   "metadata": {},
   "outputs": [],
   "source": [
    "# 不显示关于在切片副本上设置值的警告\n",
    "pd.options.mode.chained_assignment = None\n",
    "\n",
    "# 一个 dataframe 最多显示60例\n",
    "pd.set_option('display.max_columns', 60)\n",
    "import warnings\n",
    "warnings.filterwarnings(\"ignore\")\n",
    "#不显示警告"
   ]
  },
  {
   "cell_type": "markdown",
   "metadata": {},
   "source": [
    "### 项目来源：\n",
    "\n",
    "**这是2018年夏天，一位美国数据科学家在申请工作时的“作业”，完整的英文版作业可以在[这里](https://github.com/WillKoehrsen/machine-learning-project-walkthrough/blob/master/hw_assignment.pdf)看到**\n",
    "\n",
    "### 项目目标：\n",
    "\n",
    "* **使用提供的建筑能源数据开发一个模型，该模型可以预测建筑物的能源之星得分**，\n",
    "* **然后解释结果以找到最能预测得分的变量。**\n",
    "\n",
    "### 项目介绍：\n",
    "\n",
    "这是一个**监督学习的回归机器学习任务**：给定一组包含目标（在本例中为分数）的数据，我们希望训练一个可以学习将特征（也称为解释变量）映射到目标的模型。\n",
    "\n",
    "* **监督学习问题**： 我们可以知道数据的特征和目标，我们的目标是训练可以学习两者之间映射关系的模型。\n",
    "* **回归问题**： Energy Star Score是一个连续变量。\n",
    "\n",
    "在训练中，我们希望模型能够学习特征和分数之间的关系，因此我们给出了特征和答案。然后，为了测试模型的学习效果，我们在一个从未见过答案的测试集上进行评估"
   ]
  },
  {
   "cell_type": "code",
   "execution_count": null,
   "metadata": {},
   "outputs": [],
   "source": [
    "# 可视化工具包\n",
    "import matplotlib.pyplot as plt\n",
    "%matplotlib inline\n",
    "\n",
    "#设置默认字体大小\n",
    "plt.rcParams['font.size'] = 24\n",
    "\n",
    "# 导入设置图片大小的工具\n",
    "from IPython.core.pylabtools import figsize\n",
    "\n",
    "#导入用于可视化的Seaborn\n",
    "import seaborn as sns\n",
    "sns.set(font_scale = 2)"
   ]
  },
  {
   "cell_type": "code",
   "execution_count": null,
   "metadata": {},
   "outputs": [],
   "source": [
    "# 把数据分为训练集和测试集\n",
    "\n",
    "from sklearn.model_selection import train_test_split"
   ]
  },
  {
   "cell_type": "markdown",
   "metadata": {},
   "source": [
    "# 1. 数据清理和格式化\n",
    "\n",
    "## 1.1 加载并检查数据\n",
    "\n"
   ]
  },
  {
   "cell_type": "markdown",
   "metadata": {},
   "source": [
    "我们将把数据加载到pandas数据帧中，这是数据科学最有用的数据结构之一。将其视为Python中的电子表格，我们可以轻松地操作，清理和可视化。[Pandas有许多方法](http://pandas.pydata.org/pandas-docs/stable/)可以帮助使数据科学/机器学习管道尽可能顺利。"
   ]
  },
  {
   "cell_type": "code",
   "execution_count": null,
   "metadata": {},
   "outputs": [],
   "source": [
    "# 把数据读入pandas dataframe\n",
    "data = pd.read_csv('data/Energy_and_Water_Data_Disclosure_for_Local_2016.csv')"
   ]
  },
  {
   "cell_type": "code",
   "execution_count": null,
   "metadata": {},
   "outputs": [],
   "source": [
    "# 显示前五行\n",
    "data.head()"
   ]
  },
  {
   "cell_type": "markdown",
   "metadata": {},
   "source": [
    "加载数据后，我们要解决的**第一个问题：理解数据**。\n",
    "\n",
    "我们通常会看到每一列的第一行是各种名词，就是所谓的表头，理解这些名词的含义对于处理数据非常重要，但是我们面对的数据来自各个领域，数据科学家不是精通各个领域专业知识的杂家，这时候就需要通过各种手段去理解数据：\n",
    "\n",
    "1. 查看数据文件的文件名，寻找线索，在本例中，数据文件名是：\n",
    "`Energy_and_Water_Data_Disclosure_for_Local_2016.csv`\n",
    "根据数据可以获得两个资料： \n",
    "  * [this webpage](http://www.nyc.gov/html/gbee/html/plan/ll84.shtml) \n",
    "  * [this pdf document](http://www.nyc.gov/html/gbee/downloads/misc/nyc_benchmarking_disclosure_data_definitions_2017.pdf)\n",
    "\n",
    "第二个文件对于数据中的每一个名词给出了详细的定义。这是一个非常好的开始，也是在提醒你要放慢速度，这样你才不会错过任何重要的东西！\n",
    "\n",
    "2. 直接搜索每一列第一行出现的名词，我们不需要研究所有的列的定义，但我们至少应该了解Energy Star Score，它被描述为：\n",
    "**根据报告年度中，自我报告的能源使用情况而进行的1至100百分位的排名。 Energy Star Score是用于比较建筑物能效的相对度量。**\n",
    "\n",
    "**第二个问题：缺少的值被编码为“Not Available”**。\n",
    "\n",
    "这是Python中的一个字符串，这意味着甚至包含数字的列都将被存储为object数据类型，因为Pandas会将包含任何字符串的列转换为所有元素都为字符串的列。我们可以使用`dataframe.info()`方法来**查看列的数据类型**：\n"
   ]
  },
  {
   "cell_type": "markdown",
   "metadata": {},
   "source": [
    "## 1.2  数据类型和缺失值\n",
    "\n",
    "`dataframe.info`方法是一种通过显示每列的**数据类型**和**非缺失值的数量**来评估数据的快速方法。从查看数据帧开始，可能存在问题，因为缺失值被编码为`Not Available`而不是`np.nan`（不是数字）。这意味着带有数字的列将不会表示为数字，因为**pandas会将具有任何字符串值的列转换为所有字符串的列**。"
   ]
  },
  {
   "cell_type": "code",
   "execution_count": null,
   "metadata": {},
   "outputs": [],
   "source": [
    "data.info()"
   ]
  },
  {
   "cell_type": "markdown",
   "metadata": {},
   "source": [
    "一些明确包含数字（例如$ft²$）的列被存储为object类型（对象类型）。 我们不能对字符串进行数值分析，因此必须将其转换为数字（特别是浮点数）数据类型！\n",
    "\n",
    "### 1.2.1 将数据转换为正确的类型\n",
    "\n",
    "\n",
    "* 我们首先**将带有数字并且缺失值被编码为`Not Available`的列转换为数字数据类型**，方法是将`Not Available`项替换为可以解释为浮点数的`np.nan`。 \n",
    "* 然后我们将包含数值（例如平方英尺或能量使用）的列转换为数字数据类型:"
   ]
  },
  {
   "cell_type": "code",
   "execution_count": null,
   "metadata": {},
   "outputs": [],
   "source": [
    "#将“Not Available”项替换为可以解释为浮点数的np.nan\n",
    "data = data.replace({'Not Available': np.nan})\n",
    "\n",
    "# 一些明确包含数字（例如ft²）的列被存储为object类型。 我们不能对字符串进行数值分析，因此必须将其转换为数字（特别是浮点数）数据类型\n",
    "# 对列数进行迭代\n",
    "for col in list(data.columns):\n",
    "    # 选择需要被数字化的列，通过if 判断实现\n",
    "    # 凡是包含下列红色字体的列，都需要被转化为数据类型\n",
    "    if ('ft²' in col or 'kBtu' in col or 'Metric Tons CO2e' in col\n",
    "            or 'kWh' in col or 'therms' in col or 'gal' in col\n",
    "            or 'Score' in col):\n",
    "        # 将数据类型转换为float\n",
    "        data[col] = data[col].astype(float)"
   ]
  },
  {
   "cell_type": "code",
   "execution_count": null,
   "metadata": {},
   "outputs": [],
   "source": [
    "# 每列的统计信息\n",
    "data.describe()"
   ]
  },
  {
   "cell_type": "code",
   "execution_count": null,
   "metadata": {},
   "outputs": [],
   "source": []
  },
  {
   "cell_type": "markdown",
   "metadata": {},
   "source": [
    "`data.describe(percentiles=None, include=None, exclude=None)`作用是生成描述性统计数据，总结数据集分布的集中趋势，分散和形状，不包括 NaN值。参数含义：\n",
    "* percentiles：包括在输出中的百分位数。全部应该介于0和1之间。默认值为 ，返回第25，第50和第75百分位数。[.25, .5, .75]\n",
    "* include：默认是None 结果将包括所有数字列\n",
    "* exclude：默认是None,结果将不包含任何内容。\n",
    "\n",
    "对于数字数据，则结果将包括count， mean，std，min，max以及第25，第50和第75百分位数,其中第50百分位数等价于中位数，更多信息[查看这里](https://pandas.pydata.org/pandas-docs/stable/generated/pandas.DataFrame.describe.html)\n"
   ]
  },
  {
   "cell_type": "code",
   "execution_count": null,
   "metadata": {},
   "outputs": [],
   "source": [
    "# 显示前五行\n",
    "data.head()"
   ]
  },
  {
   "cell_type": "markdown",
   "metadata": {},
   "source": [
    "## 1.3 处理缺失值"
   ]
  },
  {
   "cell_type": "markdown",
   "metadata": {},
   "source": [
    "现在我们有了正确的列数据类型，我们可以通过**查看每列中缺失值的百分比来开始分析**。 当我们进行探索性数据分析时，缺失的值很好，但是必须使用机器学习方法进行填写。\n",
    "\n",
    "以下是一个函数，**用于计算缺失值的数量以及每列缺少的总值的百分比**。 与数据科学中的许多任务一样，我自己没有编写这个函数，而是在在线论坛[Stack Overflow forum](https://stackoverflow.com/a/39734251) 中发现它的！"
   ]
  },
  {
   "cell_type": "code",
   "execution_count": null,
   "metadata": {},
   "outputs": [],
   "source": [
    "# 按列计算缺失值的函数\n",
    "def missing_values_table(df):\n",
    "    #计算总的缺失值\n",
    "    mis_val = df.isnull().sum()\n",
    "\n",
    "    #计算缺失值的百分比\n",
    "    mis_val_percent = 100 * df.isnull().sum() / len(df)\n",
    "\n",
    "    #把结果制成表格\n",
    "    mis_val_table = pd.concat([mis_val, mis_val_percent], axis=1)\n",
    "\n",
    "    #对列重命名，第一列：Missing Values，第二列：% of Total Values\n",
    "    mis_val_table_ren_columns = mis_val_table.rename(columns={\n",
    "        0: 'Missing Values',\n",
    "        1: '% of Total Values'\n",
    "    })\n",
    "\n",
    "    #根据百分比对表格进行降序排列\n",
    "    mis_val_table_ren_columns = mis_val_table_ren_columns[\n",
    "        mis_val_table_ren_columns.iloc[:, 1] != 0].sort_values(\n",
    "            '% of Total Values', ascending=False).round(1)\n",
    "\n",
    "    #打印总结信息：总的列数，有数据缺失的列数\n",
    "    print(\"Your selected dataframe has \" + str(df.shape[1]) + \" columns.\\n\"\n",
    "          \"There are \" + str(mis_val_table_ren_columns.shape[0]) +\n",
    "          \" columns that have missing values.\")\n",
    "\n",
    "    # 返回带有缺失值信息的dataframe\n",
    "    return mis_val_table_ren_columns"
   ]
  },
  {
   "cell_type": "code",
   "execution_count": null,
   "metadata": {},
   "outputs": [],
   "source": [
    "missing_values_table(data)"
   ]
  },
  {
   "cell_type": "markdown",
   "metadata": {},
   "source": [
    "这个数据集里一共有11746个实例，即11746栋建筑。通过上面的结果，我们可以看到我们的目标**能源之星得分**有2104个缺失值，占比17.9%，正常值有9642个，等一下我们会用到这个数据"
   ]
  },
  {
   "cell_type": "markdown",
   "metadata": {},
   "source": [
    "处理真实世界数据时的另一个常见问题是缺失值。 这可能是由于许多原因引起的，在我们训练机器学习模型之前必须填写或删除这些缺失值。\n",
    "* 首先，让我们了解每列中有多少缺失值。如果列中缺失值的比例很高，那么它对我们的模型可能不会有用。\n",
    "\n",
    "删除列的阈值应该取决于实际问题，对于此项目，我们将删除缺失值超过50％的列。"
   ]
  },
  {
   "cell_type": "code",
   "execution_count": null,
   "metadata": {},
   "outputs": [],
   "source": [
    "# 获取缺失值超过50％的列\n",
    "missing_df = missing_values_table(data)\n",
    "missing_columns = list(missing_df[missing_df['% of Total Values'] > 50].index)\n",
    "print('We will remove %d columns.' % len(missing_columns))"
   ]
  },
  {
   "cell_type": "code",
   "execution_count": null,
   "metadata": {},
   "outputs": [],
   "source": [
    "# 删除缺失值超过50％的列\n",
    "data = data.drop(list(missing_columns), axis = 1)"
   ]
  },
  {
   "cell_type": "markdown",
   "metadata": {},
   "source": [
    "在进行机器学习之前，必须使用适当的策略估算其余的缺失值（填写）。"
   ]
  },
  {
   "cell_type": "markdown",
   "metadata": {},
   "source": [
    "# 2. 探索性数据分析"
   ]
  },
  {
   "cell_type": "markdown",
   "metadata": {},
   "source": [
    "[探索性数据分析（EDA）](https://en.wikipedia.org/wiki/Exploratory_data_analysis)是一个开放式流程，我们制作绘图并计算统计数据，以便探索我们的数据。 \n",
    "\n",
    "* 目的是找到异常，模式，趋势或关系。 这些可能是有趣的（例如，找到两个变量之间的相关性），或者它们可用于建模决策，例如使用哪些特征。 \n",
    "* 简而言之，EDA的目标是确定我们的数据可以告诉我们什么！ EDA通常以高级概述(high-level overview)开始，然后在我们找到要检查的感兴趣的区域时缩小到数据集的特定部分。\n",
    "\n",
    "要开始EDA，我们将专注于单一变量，**the Energy Star Score**，因为这是我们的机器学习模型的目标。 为简单起见，我们可以将该列重命名为`score`，然后开始探索此值。"
   ]
  },
  {
   "cell_type": "markdown",
   "metadata": {},
   "source": [
    "## 2.1 单变量图\n",
    "\n",
    "单个变量（称为[单变量]（https://en.wikipedia.org/wiki/Univariate_（统计））图表显示单个变量的分布，例如直方图。"
   ]
  },
  {
   "cell_type": "markdown",
   "metadata": {},
   "source": [
    "目标是预测**Energy Star Score**（将其重新命名为`score`），因此合理的开始是**检查此变量的分布**。直方图是可视化单个变量分布的简单而有效的方法，使用matplotlib可以很容易的画出直方图。"
   ]
  },
  {
   "cell_type": "code",
   "execution_count": null,
   "metadata": {},
   "outputs": [],
   "source": [
    "figsize(8,8)\n",
    "\n",
    "# 将Energy Star Score重新命名为score\n",
    "data = data.rename(columns = {'ENERGY STAR Score':'score'})\n",
    "\n",
    "# 绘制直方图\n",
    "\n",
    "plt.style.use('fivethirtyeight')\n",
    "plt.hist(data['score'].dropna(),bins = 100,edgecolor = 'k')\n",
    "# x,y 坐标轴标签\n",
    "plt.xlabel('Score');\n",
    "plt.ylabel('Number of Buildings')\n",
    "#图表名称\n",
    "plt.title('Energy Star Score Distribution');"
   ]
  },
  {
   "cell_type": "markdown",
   "metadata": {},
   "source": [
    "由于能源之星得分是百分位数，我们预计会看到完全平坦的分布，每个得分占分布的1％（大约是90个建筑物）。 然而，事实并非如此，因为我们可以看到两个最常见的分数1和100构成总分数的不相称的数字。换句话说就是在两端出现了异常值\n",
    "\n",
    "我们回到分数的定义，我们会看到它是基于自我报告的能源使用情况。这造成了一个问题，因为建筑物所有者可能想要报告较低的用电量以人为地提高他们的建筑物的分数。这就像要求学生在测试中报告自己的分数。这种行为可以解释有很高比例的建筑物得到满分100，但不能解释为什么有这么多建筑物的得分在最底层！\n",
    "\n",
    "为了对比能源之星得分，我们可以看一下**能源使用强度（EUI）**，它是**总能源使用量除以建筑物的面积（平方英尺）**。这个能源使用量不是自我报告的，因此这可以更客观地衡量建筑物的能源效率。此外，这不是百分位数，因此绝对值很重要，我们希望它们近似正态分布，可能在低端或高端有一些异常值。\n",
    "\n",
    "\n"
   ]
  },
  {
   "cell_type": "code",
   "execution_count": null,
   "metadata": {},
   "outputs": [],
   "source": [
    "# 绘制能源使用强度（EUI）直方图\n",
    "\n",
    "figsize(8, 8)\n",
    "plt.hist(data['Site EUI (kBtu/ft²)'].dropna(), bins = 20, edgecolor = 'black');\n",
    "plt.xlabel('Site EUI'); \n",
    "plt.ylabel('Count'); \n",
    "plt.title('Site EUI Distribution');"
   ]
  },
  {
   "cell_type": "markdown",
   "metadata": {},
   "source": [
    "这个结果惊不惊喜，意不意外？这表明我们遇到了**另一个问题：异常值**！ 由于存在一些分数非常高的建筑物，因此图表非常倾斜。 看起来我们将不得不稍微绕道来处理这些异常值。 我们来看看**EUI**这个特征的统计数据"
   ]
  },
  {
   "cell_type": "code",
   "execution_count": null,
   "metadata": {},
   "outputs": [],
   "source": [
    "data['Site EUI (kBtu/ft²)'].describe()# 这是data.describe() 第二次出现"
   ]
  },
  {
   "cell_type": "code",
   "execution_count": null,
   "metadata": {},
   "outputs": [],
   "source": [
    "# 取出前十名\n",
    "\n",
    "data['Site EUI (kBtu/ft²)'].dropna().sort_values().tail(10)"
   ]
  },
  {
   "cell_type": "markdown",
   "metadata": {},
   "source": [
    "其中一栋建筑的得分远远高于其他建筑。让我们定位能源使用强度（`Site EUI`）最高的建筑，查看详情\n"
   ]
  },
  {
   "cell_type": "code",
   "execution_count": null,
   "metadata": {},
   "outputs": [],
   "source": [
    "data.loc[data['Site EUI (kBtu/ft²)'] == 869265, :]"
   ]
  },
  {
   "cell_type": "markdown",
   "metadata": {},
   "source": [
    "异常值可能由于多种原因而发生：\n",
    "\n",
    "* 打字错误\n",
    "* 测量设备故障\n",
    "* 不正确的单位\n",
    "* 或者它们可能是合法的但是极端值。\n",
    "\n",
    "异常值可以抛弃，因为它们并不表示数据的实际分布。"
   ]
  },
  {
   "cell_type": "markdown",
   "metadata": {},
   "source": [
    "## 2.2 去除异常值\n",
    "\n",
    "当我们删除异常值时，我们需要小心，我们不会因为它们看起来很奇怪就丢掉测量值。它们可能是我们应该进一步研究的实际现象的结果。 当删除异常值时，我尝试使用[极端异常值](https://people.richland.edu/james/lecture/m170/ch03-pos.html)的定义尽可能保守：\n",
    "\n",
    "* 在低端，极端异常值低于 $\\text{First Quartile} -3 * \\text{Interquartile Range}$\n",
    "* 在高端，极端异常值高于 $\\text{Third Quartile} + 3 * \\text{Interquartile Range}$\n",
    "\n",
    "在这种情况下，我将只删除单个外围点并查看分布的形状。"
   ]
  },
  {
   "cell_type": "code",
   "execution_count": null,
   "metadata": {},
   "outputs": [],
   "source": [
    "# 计算第一和第三 四分数\n",
    "first_quartile = data['Site EUI (kBtu/ft²)'].describe()['25%']\n",
    "third_quartile = data['Site EUI (kBtu/ft²)'].describe()['75%']\n",
    "\n",
    "# 第四分位数范围\n",
    "iqr = third_quartile - first_quartile\n",
    "\n",
    "# 去除异常值\n",
    "\n",
    "data = data[(data['Site EUI (kBtu/ft²)'] > (first_quartile - 3 * iqr))\n",
    "            & (data['Site EUI (kBtu/ft²)'] < (third_quartile + 3 * iqr))]"
   ]
  },
  {
   "cell_type": "code",
   "execution_count": null,
   "metadata": {},
   "outputs": [],
   "source": [
    "# # 绘制能源使用强度（EUI）直方图\n",
    "\n",
    "figsize(8, 8)\n",
    "plt.hist(data['Site EUI (kBtu/ft²)'].dropna(), bins = 20, edgecolor = 'black');\n",
    "plt.xlabel('Site EUI'); \n",
    "plt.ylabel('Count'); \n",
    "plt.title('Site EUI Distribution');"
   ]
  },
  {
   "cell_type": "markdown",
   "metadata": {},
   "source": [
    "这幅图看起来好多了，并且接近正常分布，右侧有一条长尾（它有一个正偏斜）。\n",
    "\n",
    "虽然`Site EUI`可能是一个更客观的衡量标准，但我们的目标仍然是预测能源之星得分，因此我们将回过头来研究这个变量。 即使分数不是一个好的衡量标准，我们仍然需要预测它，这就是我们将要做的事情！ 在回到公司的最终报告中，我将指出这可能不是一个客观的衡量标准，并且使用不同的指标来确定建筑物的效率是个好主意。 此外，如果我们有更多时间参与这个项目，那么看看分数为1和100的建筑物可能会很有趣，看看它们是否有任何共同之处。"
   ]
  },
  {
   "cell_type": "markdown",
   "metadata": {},
   "source": [
    "## 2.3 寻找关系"
   ]
  },
  {
   "cell_type": "markdown",
   "metadata": {},
   "source": [
    "为了查看**分类变量 - categorical variables**对分数的影响，我们可以通过**分类变量**的值来绘制**密度图**。 密度图还显示单个变量的分布，可以认为是平滑的直方图。 如果我们通过为**分类变量**密度曲线着色，这将向我们展示分布如何基于类别变化的。\n",
    "\n",
    "我们将制作的第一个图表显示了**分类变量**的分数分布。 为了不使图形混乱，我们将图形限制为在数据集中具有超过100个观测值的建筑类型。"
   ]
  },
  {
   "cell_type": "markdown",
   "metadata": {},
   "source": [
    "\"具有超过100个观测值的建筑类型\" 这句话是什么意思呢？ 有的建筑是住宅楼，有的是酒店，有的是写字楼办公楼，有的是医院等等。\n",
    "\n",
    "如果用作住宅楼的建筑和用作办公楼的建筑都超过100栋了，那我们就把这两种类型的建筑物的得分分布画出来。例如下图中的红色曲线就代表`Office`这个类型的建筑物的能源之星得分分布"
   ]
  },
  {
   "cell_type": "code",
   "execution_count": null,
   "metadata": {},
   "outputs": [],
   "source": [
    "# 创建一个建筑物列表，对建筑物类型及其数量进行统计\n",
    "types = data.dropna(subset=['score'])\n",
    "Alltypes_num = types['Largest Property Use Type'].value_counts()"
   ]
  },
  {
   "cell_type": "markdown",
   "metadata": {},
   "source": [
    "**查看所有的建筑物类型及其数量**"
   ]
  },
  {
   "cell_type": "code",
   "execution_count": null,
   "metadata": {},
   "outputs": [],
   "source": [
    "print(Alltypes_num)"
   ]
  },
  {
   "cell_type": "markdown",
   "metadata": {},
   "source": [
    "通过上面的结果可以看到，观测值超过100个的建筑物类型有四种：\n",
    " * 'Multifamily Housing', \n",
    " * 'Office', \n",
    " * 'Hotel', \n",
    " * 'Non-Refrigerated Warehouse'"
   ]
  },
  {
   "cell_type": "markdown",
   "metadata": {},
   "source": [
    "把观测值超过100个的建筑物通过`>`运算符提取出来，你可以自由更改`>`后面的数字，来查看其他建筑物类型的得分分布图。\n",
    "\n",
    "下面的代码取得90，因为通过刚才的结果可以发现：\"K-12 School\"  \"Residence Hall/Dormitory\" 这两项非常接近100，所以有必要加进去一起看看，反正也不会损失什么，对吧"
   ]
  },
  {
   "cell_type": "code",
   "execution_count": null,
   "metadata": {},
   "outputs": [],
   "source": [
    "types = list(Alltypes_num[Alltypes_num.values > 90].index)"
   ]
  },
  {
   "cell_type": "code",
   "execution_count": null,
   "metadata": {},
   "outputs": [],
   "source": [
    "print(types)"
   ]
  },
  {
   "cell_type": "code",
   "execution_count": null,
   "metadata": {},
   "outputs": [],
   "source": [
    "# 建筑类别分数分布图\n",
    "figsize(12, 10)\n",
    "\n",
    "# 绘制每个建筑物\n",
    "for b_type in types:\n",
    "    # 选择建筑类型\n",
    "    subset = data[data['Largest Property Use Type'] == b_type]\n",
    "\n",
    "    # 能源之星得分的密度图\n",
    "    sns.kdeplot(subset['score'].dropna(), label=b_type, shade=False, alpha=0.8)\n",
    "\n",
    "plt.xlabel('Energy Star Score', size=20)\n",
    "plt.ylabel('Density', size=20)\n",
    "plt.legend()\n",
    "plt.title('Density Plot of Energy Star Scores by Building Type', size=28)"
   ]
  },
  {
   "cell_type": "markdown",
   "metadata": {},
   "source": [
    "* 我们可以看到**建筑类型**对`Energy Star Score`有重大影响。 办公楼往往有较高的分数，而酒店的分数较低。这告诉我们，我们应该在建模中包含建筑类型，因为它确实对目标有影响。 **作为分类变量，我们将不得不对建筑物类型进行one-hot编码**。\n",
    "\n",
    "* 同时，也提醒我们，还有其他特征可能会影响最终的得分，比如建筑物所在的位置，数据集中给出了每一栋建筑的经纬度坐标，这是一个值得考虑的选项，不过这需要当地的地图，可以参考[这个例子](https://github.com/DeqianBai/Hands-on-Machine-Learning/blob/master/02_Housing.ipynb)\n",
    "\n",
    "但我们暂时先不考虑坐标特征, 我们检查另一个分类变量，**自治市镇 - borough**，我们可以制作相同的图表，但这次是由borough着色。"
   ]
  },
  {
   "cell_type": "markdown",
   "metadata": {},
   "source": [
    "你可以看到，代码和刚才的基本一样："
   ]
  },
  {
   "cell_type": "code",
   "execution_count": null,
   "metadata": {},
   "outputs": [],
   "source": [
    "boroughs = data.dropna(subset=['score'])\n",
    "Allboroughs_num = boroughs['Borough'].value_counts()"
   ]
  },
  {
   "cell_type": "code",
   "execution_count": null,
   "metadata": {},
   "outputs": [],
   "source": [
    "print(Allboroughs_num)"
   ]
  },
  {
   "cell_type": "code",
   "execution_count": null,
   "metadata": {},
   "outputs": [],
   "source": [
    "boroughs = list(Allboroughs_num[Allboroughs_num.values > 100].index)"
   ]
  },
  {
   "cell_type": "code",
   "execution_count": null,
   "metadata": {},
   "outputs": [],
   "source": [
    "print(boroughs)"
   ]
  },
  {
   "cell_type": "code",
   "execution_count": null,
   "metadata": {},
   "outputs": [],
   "source": [
    "figsize(12,10)\n",
    "\n",
    "for borough in boroughs:\n",
    "    subset = data[data['Borough']==borough]\n",
    "    sns.kdeplot(subset['score'].dropna(),label = borough);\n",
    "    \n",
    "plt.xlabel('Energy Star Score', size = 20); \n",
    "plt.ylabel('Density', size = 20); \n",
    "plt.legend()\n",
    "plt.title('Density Plot of Energy Star Scores by Borough', size = 28);"
   ]
  },
  {
   "cell_type": "markdown",
   "metadata": {},
   "source": [
    "建筑物所在的自治市镇似乎没有像建筑类型那样在分数分布上产生显着差异。尽管如此，将自治市镇纳入分类变量可能是有意义的。"
   ]
  },
  {
   "cell_type": "markdown",
   "metadata": {},
   "source": [
    "## 2.4 特征与目标之间的相关性"
   ]
  },
  {
   "cell_type": "markdown",
   "metadata": {},
   "source": [
    "为了量化**特征**（变量）和**目标**之间的相关性，我们可以计算[Pearson相关系数](http://www.statisticshowto.com/probability-and-statistics/correlation-coefficient-formula/)。 这是两个变量之间线性关系的强度和方向的度量：\n",
    "\n",
    "* **- 1** 表示两个变量完全负线性相关，\n",
    "* **+1** 表示两个变量完全正线性相关。 \n",
    "\n",
    "下图显示了相关系数的不同值以及它们如何以图形方式显示。\n",
    "\n",
    "尽管\n",
    "* **特征**和**目标**之间可能存在非线性关系，\n",
    "* 相关系数不考虑**特征之间**的相互作用，\n",
    "\n",
    "但**线性关系**是开始探索数据趋势的好方法。 然后，我们可以使用这些值来选择要在我们的模型中使用的特征。\n",
    "\n"
   ]
  },
  {
   "cell_type": "markdown",
   "metadata": {},
   "source": [
    "![image.png](images/af1b2f3830bdf4bb81de2f6d4fac8301_1240.png)"
   ]
  },
  {
   "cell_type": "markdown",
   "metadata": {},
   "source": [
    "下面的代码计算所有变量和分数之间的相关系数。"
   ]
  },
  {
   "cell_type": "code",
   "execution_count": null,
   "metadata": {},
   "outputs": [],
   "source": [
    "# 找到所有相关性并排序\n",
    "correlations_data = data.corr()['score'].sort_values()\n",
    "\n",
    "# 打印最负相关性\n",
    "print(correlations_data.head(15),'\\n')\n",
    "\n",
    "# 打印最正相关性\n",
    "print(correlations_data.tail(15))\n"
   ]
  },
  {
   "cell_type": "markdown",
   "metadata": {},
   "source": [
    "特征和目标之间存在几个强烈的负相关。与得分最负相关的是三个不同类别：\n",
    "* 能源使用强度 - Energy Use Intensity（EUI），\n",
    "* 场地EUI - Site EUI（kBtu /ft²）\n",
    "* 天气归一化场地EUI - Weather Normalized Site EUI （kBtu /ft²）（这些在计算方式上略有不同）。 \n",
    "\n",
    "EUI是建筑物使用的能量除以建筑物的平方英尺，用于衡量建筑物的效率，得分越低越好。直观地说，这些相关性是有意义的：**随着EUI的增加，能源之星得分趋于下降**。\n",
    "\n",
    "为了考虑可能的非线性关系，我们可以采用**特征的平方根和自然对数变换**，然后用得分计算相关系数。为了尝试捕捉自治市镇或建筑类型和得分之间任何可能的关系（记住这些是**分类变量**），我们将对这些列进行one-hot编码。\n",
    "\n",
    "在下面的代码中，\n",
    "* 我们采用数值变量的**对数和平方根变换**，\n",
    "* 对两个选定的分类变量（建筑类型和自治市镇）进行one-hot编码，\n",
    "* 计算所有特征与得分之间的相关性，\n",
    "* 并显示前15个最正和前15个最负相关。\n",
    "\n",
    "这很多，但有了pandas，每一步都很简单！"
   ]
  },
  {
   "cell_type": "code",
   "execution_count": null,
   "metadata": {},
   "outputs": [],
   "source": [
    "# 选择数字列\n",
    "numeric_subset = data.select_dtypes('number')"
   ]
  },
  {
   "cell_type": "code",
   "execution_count": null,
   "metadata": {},
   "outputs": [],
   "source": [
    "numeric_subset"
   ]
  },
  {
   "cell_type": "code",
   "execution_count": null,
   "metadata": {},
   "outputs": [],
   "source": [
    "# 选择数字列\n",
    "numeric_subset = data.select_dtypes('number')\n",
    "\n",
    "# 使用数字列的平方根和对数创建列\n",
    "for col in numeric_subset.columns:\n",
    "     # 跳过the Energy Star Score 这一列\n",
    "    if col == 'score':\n",
    "        next\n",
    "    else:\n",
    "        numeric_subset['sqrt_ '+ col] = np.sqrt(numeric_subset[col])\n",
    "        numeric_subset['log_' + col] = np.log(numeric_subset[col])\n",
    "\n",
    "# 选择分类列        \n",
    "categorical_subset = data[['Borough','Largest Property Use Type']]\n",
    "\n",
    "# ne hot 编码\n",
    "categorical_subset = pd.get_dummies(categorical_subset)\n",
    "\n",
    "# 使用concat对两个数据帧进行拼接，确保使用axis = 1来执行列绑定\n",
    "features = pd.concat([numeric_subset,categorical_subset],axis =1)\n",
    "\n",
    "# 放弃没有能源之星评分的建筑物\n",
    "features = features.dropna(subset = ['score'])\n",
    "\n",
    "# 找到与得分之间的相关性\n",
    "correlations = features.corr()['score'].dropna().sort_values()"
   ]
  },
  {
   "cell_type": "code",
   "execution_count": null,
   "metadata": {},
   "outputs": [],
   "source": [
    "# 显示最负相关的关系\n",
    "correlations.head(15)"
   ]
  },
  {
   "cell_type": "code",
   "execution_count": null,
   "metadata": {},
   "outputs": [],
   "source": [
    "# 显示最正相关的关系\n",
    "correlations.tail(15)"
   ]
  },
  {
   "cell_type": "markdown",
   "metadata": {},
   "source": [
    "转换特征后，\n",
    "\n",
    "* 最强的关系仍然是与能源使用强度（EUI）相关的关系。\n",
    "* 对数和平方根变换似乎没有导致任何更强的关系。\n",
    "* 虽然我们确实看到建筑类型为办公室（`Largest Property Use Type_Office`）建筑与分数略微正相关，但没有强烈的正线性关系。此变量是建筑类型的分类变量的单热编码表示。\n",
    "\n",
    "我们可以使用这些相关性来执行特征选择（马上就会讲到）。\n",
    "\n",
    "现在，让我们绘制数据集中最重要的相关性（就绝对值而言），即`Site EUI（kBtu/ft^2）`。我们可以按照建筑类型为图表着色，以显示它如何影响关系。"
   ]
  },
  {
   "cell_type": "markdown",
   "metadata": {},
   "source": [
    "## 2.5 双变量图（Two-Variable Plots）"
   ]
  },
  {
   "cell_type": "markdown",
   "metadata": {},
   "source": [
    "为了可视化两个变量之间的关系，我们使用散点图。我们还可以使用诸如标记的颜色或标记的大小等方面包括其他变量。在这里，我们将相互绘制两个数字变量，并使用颜色表示第三个分类变量。"
   ]
  },
  {
   "cell_type": "code",
   "execution_count": null,
   "metadata": {},
   "outputs": [],
   "source": [
    "figsize(12, 10)\n",
    "\n",
    "# 提取建筑类型\n",
    "features['Largest Property Use Type'] = data.dropna(\n",
    "    subset=['score'])['Largest Property Use Type']\n",
    "\n",
    "# 限制超过100个观测值的建筑类型（来自之前的代码）\n",
    "features = features[features['Largest Property Use Type'].isin(types)]\n",
    "\n",
    "# 使用seaborn绘制Score与 Log Source EUI 的散点图\n",
    "sns.lmplot('Site EUI (kBtu/ft²)',\n",
    "           'score',\n",
    "           hue='Largest Property Use Type',\n",
    "           data=features,\n",
    "           scatter_kws={\n",
    "               'alpha': 0.8,\n",
    "               's': 60\n",
    "           },\n",
    "           fit_reg=False,\n",
    "           size=12,\n",
    "           aspect=1.2)\n",
    "\n",
    "plt.xlabel(\"Site EUI\", size=28)\n",
    "plt.ylabel('Energy Star Score', size=28)\n",
    "plt.title('Energy Star Score vs Site EUI', size=36)"
   ]
  },
  {
   "cell_type": "markdown",
   "metadata": {},
   "source": [
    "Site EUI与得分之间存在明显的负相关关系。这种关系不是完全线性的,它的相关系数为 - 0.7，但看起来这个特征对于预测建筑物的得分非常重要。"
   ]
  },
  {
   "cell_type": "markdown",
   "metadata": {},
   "source": [
    "### 2.5.1 Pairs Plot"
   ]
  },
  {
   "cell_type": "markdown",
   "metadata": {},
   "source": [
    "作为探索性数据分析的最后一个练习，我们可以在几个不同的变量之间建立**Pairs Plot**。 Pairs Plot是一次检查多个变量的好方法，因为它显示了对角线上的变量对和单个变量直方图之间的散点图。\n",
    "\n",
    "使用seaborn `PairGrid`函数，我们可以将不同的图绘制到网格的三个方面:\n",
    "\n",
    "* 上三角显示散点图\n",
    "* 对角线将显示直方图\n",
    "* 下三角形将显示两个变量之间的相关系数和两个变量的2-D核密度估计。"
   ]
  },
  {
   "cell_type": "code",
   "execution_count": null,
   "metadata": {},
   "outputs": [],
   "source": [
    "# 提取要绘制的列\n",
    "plot_data = features[[\n",
    "    'score', 'Site EUI (kBtu/ft²)', 'Weather Normalized Source EUI (kBtu/ft²)',\n",
    "    'log_Total GHG Emissions (Metric Tons CO2e)'\n",
    "]]\n",
    "\n",
    "# 把 inf 换成 nan\n",
    "plot_data = plot_data.replace({np.inf: np.nan, -np.inf: np.nan})\n",
    "\n",
    "# 重命名\n",
    "plot_data = plot_data.rename(\n",
    "    columns={\n",
    "        'Site EUI (kBtu/ft²)': 'Site EUI',\n",
    "        'Weather Normalized Source EUI (kBtu/ft²)': 'Weather Norm EUI',\n",
    "        'log_Total GHG Emissions (Metric Tons CO2e)': 'log GHG Emissions'\n",
    "    })\n",
    "\n",
    "# 删除 na 值\n",
    "plot_data = plot_data.dropna()\n",
    "\n",
    "\n",
    "# 计算某两列之间的相关系数\n",
    "def corr_func(x, y, **kwargs):\n",
    "    r = np.corrcoef(x, y)[0][1]\n",
    "    ax = plt.gca()\n",
    "    ax.annotate(\"r = {:.2f}\".format(r),\n",
    "                xy=(.2, .8),\n",
    "                xycoords=ax.transAxes,\n",
    "                size=20)\n",
    "\n",
    "\n",
    "# 创建 pairgrid 对象\n",
    "grid = sns.PairGrid(data=plot_data, size=3)\n",
    "\n",
    "# 上三角是散点图\n",
    "grid.map_upper(plt.scatter, color='red', alpha=0.6)\n",
    "\n",
    "# 对角线是直方图\n",
    "grid.map_diag(plt.hist, color='red', edgecolor='black')\n",
    "\n",
    "# 下三角是相关系数和二维核密度图\n",
    "grid.map_lower(corr_func)\n",
    "grid.map_lower(sns.kdeplot, cmap=plt.cm.Reds)\n",
    "\n",
    "plt.suptitle('Pairs Plot of Energy Data', size=36, y=1.02)"
   ]
  },
  {
   "cell_type": "markdown",
   "metadata": {},
   "source": [
    "为了解释图中的关系，我们可以查找一行中的变量与一列中的变量相交的位置。例如，\n",
    "\n",
    "* 要查找score与log of GHG Emissions之间的关系，我们会查看score列和 log of GHG Emissions行。在交叉点（左下图），我们看到得分与该变量的相关系数为-0.35。如果我们查看右上图，我们可以看到这种关系的散点图。\n",
    "\n",
    "* 要查看Weather EUorm EUI与score的相关性，我们查看Weather EUorm EUI行和score列，可以看到相关系数为-0.67。"
   ]
  },
  {
   "cell_type": "markdown",
   "metadata": {},
   "source": [
    "# 3. 特征工程和选择"
   ]
  },
  {
   "cell_type": "markdown",
   "metadata": {},
   "source": [
    "现在我们已经探索了数据中的趋势和关系，我们可以为我们的模型设计一组函数。 我们可以使用EDA的结果来构建特征工程。 特别是，我们从EDA学到了以下知识，可以帮助我们进行特征工程/选择：\n",
    "\n",
    "* 分数分布因建筑类型而异，并且在较小程度上因行政区而异。 虽然我们将关注数字特征，但我们还应该在模型中包含这两个分类特征。\n",
    "* 对特征进行对数变换不会导致特征与分数之间的线性相关性显着增加\n",
    "\n",
    "\n",
    "在我们进一步讨论之前，我们应该定义什么是特征工程和选择！ 这些定义是非正式的，并且有很多重叠，但我喜欢将它们视为两个独立的过程：\n",
    "\n",
    "* __[Feature Engineering](https://machinelearningmastery.com/discover-feature-engineering-how-to-engineer-features-and-how-to-get-good-at-it/)__:  获取原始数据并提取或创建新特征的过程。这可能意味着需要对变量进行变换，例如自然对数和平方根，或者对分类变量进行one-hot编码，以便它们可以在模型中使用。 一般来说，我认为特征工程是从原始数据创建附加特征。\n",
    "\n",
    "* __[Feature Selection](https://machinelearningmastery.com/an-introduction-to-feature-selection/)__:  选择数据中最相关的特征的过程。在特征选择中，我们删除特征以帮助模型更好地总结新数据并创建更具可解释性的模型。一般来说，特征选择是减去特征，所以我们只留下那些最重要的特征。[most variance](http://scikit-learn.org/stable/modules/generated/sklearn.feature_selection.VarianceThreshold.html). \n",
    "\n",
    "\n",
    "在特征选择中，我们删除了无助于我们的模型学习特征与目标之间关系的特征。 这可以帮助模型更好地概括新数据并产生更可解释的模型。 一般来说，我认为特征选择为**__subtracting__特征**，因此我们只留下最重要的特征。\n",
    "\n",
    "特征工程和选择是迭代过程，通常需要多次尝试才能正确。 通常我们会使用建模结果（例如来自随机森林的特征重要性）返回并重做特征选择，或者我们稍后可能会发现需要创建新变量的关系。 此外，这些过程通常包含领域知识和数据统计质量的混合。\n",
    "\n",
    "[Feature engineering and selection](https://www.featurelabs.com/blog/secret-to-data-science-success/) 通常具有在机器学习问题上投入的最高回报。 要做到正确可能需要一段时间，但通常比用于模型的精确算法和超参数更重要。 如果我们不为模型提供正确的数据，那么我们将其设置为失败，我们不应期望它能够学习！"
   ]
  },
  {
   "cell_type": "markdown",
   "metadata": {},
   "source": [
    "在此项目中，我们将采用以下步骤进行特征工程：\n",
    "\n",
    "* 仅选择数值变量和两个分类变量（自治市和使用属性）\n",
    "* 在数值变量的对数转换中添加\n",
    "* One-hot编码分类变量"
   ]
  },
  {
   "cell_type": "markdown",
   "metadata": {},
   "source": [
    "对于特征选择，我们将执行以下操作：\n",
    "\n",
    "* 删除[共线特征](https://statinfer.com/204-1-9-issue-of-multicollinearity-in-python/)\n",
    "\n",
    "当我们进入那个过程时，我们将讨论共线性（也称为多重共线性-[multicollinearity](https://en.wikipedia.org/wiki/Multicollinearity)）！"
   ]
  },
  {
   "cell_type": "markdown",
   "metadata": {},
   "source": [
    "## 3.1 特征工程"
   ]
  },
  {
   "cell_type": "markdown",
   "metadata": {},
   "source": [
    "以下代码\n",
    "* 选择数字特征，\n",
    "* 添加所有数字特征的对数转换，\n",
    "* 选择分类特征并进行one-hot encodes ，\n",
    "* 最后将这些特征组合在一起。"
   ]
  },
  {
   "cell_type": "code",
   "execution_count": null,
   "metadata": {},
   "outputs": [],
   "source": [
    "# 复制原始数据\n",
    "features = data.copy()\n",
    "\n",
    "# 选择数字列\n",
    "numeric_subset  = data.select_dtypes('number')\n",
    "\n",
    "# 使用数字列的对数创建新列\n",
    "for col in numeric_subset.columns:\n",
    "    # 跳过the Energy Star Score 这一列\n",
    "    if col == 'score':\n",
    "        next\n",
    "    else:\n",
    "        numeric_subset['log_' + col] = np.log(numeric_subset[col])\n",
    "        \n",
    "# 选择分类列\n",
    "categorical_subset = data[['Borough', 'Largest Property Use Type']]\n",
    "\n",
    "# One hot encode\n",
    "categorical_subset = pd.get_dummies(categorical_subset)\n",
    "\n",
    "# 使用concat对两个数据帧进行拼接，确保使用axis = 1来执行列绑定\n",
    "features = pd.concat([numeric_subset, categorical_subset], axis = 1)\n",
    "\n",
    "features.shape"
   ]
  },
  {
   "cell_type": "markdown",
   "metadata": {},
   "source": [
    "也就是说，我们有11319个建筑物，具有109个不同的特征（一列是得分）。 并非所有这些特征对于预测得分都很重要，其中一些特征也是多余的，因为它们具有高度相关性。 我们将在下面讨论第二个问题。"
   ]
  },
  {
   "cell_type": "markdown",
   "metadata": {},
   "source": [
    "## 3.2 特征选择（去除共线特征）"
   ]
  },
  {
   "cell_type": "markdown",
   "metadata": {},
   "source": [
    "高共线特征 - [collinear features](http://psychologicalstatistics.blogspot.com/2013/11/multicollinearity-and-collinearity-in.html)在它们之间具有显着的相关系数。例如，在我们的数据集中，Site EUI和Weather Norm EUI高度相关，因为它们只是略微不同的计算能源使用强度的方法。"
   ]
  },
  {
   "cell_type": "code",
   "execution_count": null,
   "metadata": {},
   "outputs": [],
   "source": [
    "plot_data = data[[\n",
    "    'Weather Normalized Site EUI (kBtu/ft²)', 'Site EUI (kBtu/ft²)'\n",
    "]].dropna()\n",
    "\n",
    "plt.plot(plot_data['Site EUI (kBtu/ft²)'],\n",
    "         plot_data['Weather Normalized Site EUI (kBtu/ft²)'], 'bo')\n",
    "\n",
    "plt.xlabel('Site EUI')\n",
    "plt.ylabel('Weather Norm EUI')\n",
    "plt.title('Weather Norm EUI vs Site EUI, R = %0.4f' % np.corrcoef(\n",
    "    data[['Weather Normalized Site EUI (kBtu/ft²)', 'Site EUI (kBtu/ft²)'\n",
    "          ]].dropna(),\n",
    "    rowvar=False)[0][1])"
   ]
  },
  {
   "cell_type": "markdown",
   "metadata": {},
   "source": [
    "虽然数据集中的变量通常与较小程度相关，但高度共线变量可能是多余的，因为我们只需保留其中一个特征即可为模型提供必要的信息。\n",
    "\n",
    "* 删除共线特征是一种通过减少特征数量来降低模型复杂性的方法，可以帮助增加模型泛化。\n",
    "\n",
    "* 它还可以帮助我们解释模型，因为我们只需要担心单个变量，例如EUI，而不是EUI和weather normalized EUI如何影响分数。"
   ]
  },
  {
   "cell_type": "markdown",
   "metadata": {},
   "source": [
    "有许多方法可以消除共线特征，例如使用**方差膨胀因子** - [Variance Inflation Factor](http://www.statisticshowto.com/variance-inflation-factor/)。\n",
    "\n",
    "* 我们将使用更简单的度量标准，\n",
    "* 并删除相关系数高于某个阈值的特征（不是得分，因为我们想要与得分高度相关的变量！）\n",
    "\n",
    "有关删除共线变量的更全面的讨论，请在Kaggle上查看此[笔记本](https://www.kaggle.com/robertoruiz/dealing-with-multicollinearity/code).。"
   ]
  },
  {
   "cell_type": "markdown",
   "metadata": {},
   "source": [
    "以下代码\n",
    "* 通过删除所比较的两个特征之一，根据我们为相关系数选择的阈值来移除共线特征。\n",
    "* 它还打印其删除的相关性，以便我们可以看到调整阈值的效果。\n",
    "\n",
    "我们将使用0.6的阈值，如果特征之间的相关系数超过该值，则删除一对特征中的一个。"
   ]
  },
  {
   "cell_type": "markdown",
   "metadata": {},
   "source": [
    "同样，我实际上并没有从头开始编写这段代码，而是改编自[Stack Overflow answer]（https://stackoverflow.com/a/43104383）"
   ]
  },
  {
   "cell_type": "code",
   "execution_count": null,
   "metadata": {},
   "outputs": [],
   "source": [
    "def remove_collinear_features(x, threshold):\n",
    "    '''\n",
    "    Objective:\n",
    "       删除数据帧中相关系数大于阈值的共线特征。 删除共线特征可以帮助模型泛化并提高模型的可解释性。\n",
    "        \n",
    "    Inputs: \n",
    "        阈值：删除任何相关性大于此值的特征\n",
    "    \n",
    "    Output: \n",
    "        仅包含非高共线特征的数据帧\n",
    "    '''\n",
    "    \n",
    "    # 不要删除能源之星得分之间的相关性\n",
    "    y = x['score']\n",
    "    x = x.drop(columns = ['score'])\n",
    "    \n",
    "    # 计算相关性矩阵\n",
    "    corr_matrix = x.corr()\n",
    "    iters = range(len(corr_matrix.columns) - 1)\n",
    "    drop_cols = []\n",
    "\n",
    "    # 迭代相关性矩阵并比较相关性\n",
    "    for i in iters:\n",
    "        for j in range(i):\n",
    "            item = corr_matrix.iloc[j:(j+1), (i+1):(i+2)]\n",
    "            col = item.columns\n",
    "            row = item.index\n",
    "            val = abs(item.values)\n",
    "            \n",
    "            # 如果相关性超过阈值\n",
    "            if val >= threshold:\n",
    "                # 打印有相关性的特征和相关值\n",
    "                # print(col.values[0], \"|\", row.values[0], \"|\", round(val[0][0], 2))\n",
    "                drop_cols.append(col.values[0])\n",
    "\n",
    "    # 删除每对相关列中的一个\n",
    "    drops = set(drop_cols)\n",
    "    x = x.drop(columns = drops)\n",
    "    x = x.drop(columns = ['Weather Normalized Site EUI (kBtu/ft²)', \n",
    "                          'Water Use (All Water Sources) (kgal)',\n",
    "                          'log_Water Use (All Water Sources) (kgal)',\n",
    "                          'Largest Property Use Type - Gross Floor Area (ft²)'])\n",
    "    \n",
    "    # 将得分添加回数据\n",
    "    x['score'] = y\n",
    "               \n",
    "    return x"
   ]
  },
  {
   "cell_type": "code",
   "execution_count": null,
   "metadata": {},
   "outputs": [],
   "source": [
    "# 删除大于指定相关系数的共线特征\n",
    "features = remove_collinear_features(features, 0.6);"
   ]
  },
  {
   "cell_type": "code",
   "execution_count": null,
   "metadata": {},
   "outputs": [],
   "source": [
    "# 删除所有 na 值的列\n",
    "features  = features.dropna(axis=1, how = 'all')\n",
    "features.shape"
   ]
  },
  {
   "cell_type": "markdown",
   "metadata": {},
   "source": [
    "我们的最终数据集现在有64个特征（其中一列是目标）。 这仍然是相当多的，但主要是因为我们有一个one-hot编码的分类变量。 此外，\n",
    "* 虽然诸如线性回归之类的模型可能存在大量特征，\n",
    "* 但诸如随机森林之类的模型执行隐式特征选择并自动确定在训练期间哪些特征是重要的。 \n",
    "\n",
    "还有其他特征选择步骤，但是现在我们将保留我们拥有的所有特征并查看模型的执行方式。"
   ]
  },
  {
   "cell_type": "markdown",
   "metadata": {},
   "source": [
    "#### 其他特征选择方法\n",
    "\n",
    "有更多的[特征选择](http://scikit-learn.org/stable/modules/feature_selection.html)方法。一些流行的方法包括主成分分析（[PCA](http://www.cs.otago.ac.nz/cosc453/student_tutorials/principal_components.pdf)），它将特征转换为保持最大方差的减少数量的维度，或独立成分分析（[ICA](http://cs229.stanford.edu/notes/cs229-notes11.pdf)），旨在找到一组特征中的独立源。\n",
    "\n",
    "然而，虽然这些方法在减少特征数量方面是有效的，但它们创造了没有物理意义的新特征，因此几乎不可能解释模型。\n",
    "\n",
    "这些方法对于处理高维数据非常有用，如果你打算处理机器学习问题，我建议你阅读更多有关[该主题](https://machinelearningmastery.com/feature-selection-machine-learning-python/)的内容！"
   ]
  },
  {
   "cell_type": "markdown",
   "metadata": {},
   "source": [
    "## 3.3 划分训练集和测试集\n",
    "\n",
    "对于我们的问题，我们将\n",
    "* 首先提取所有没有能源之星得分的建筑物（我们不知道这些建筑物的真实答案，因此它们对训练或测试没有帮助）。 \n",
    "* 然后，我们将使用能源之星分数将建筑物数据集拆分为30％的测试集，以及70％的训练集。\n",
    "\n",
    "这是训练数据不是那么多的时候的一种选择，如果数据是百万级的甚至更高，这个比例还可以再调整。使用scikit-learn将数据拆分为随机训练和测试集很简单。 我们可以设置拆分的 `random state`以确保一致的结果。"
   ]
  },
  {
   "cell_type": "code",
   "execution_count": null,
   "metadata": {},
   "outputs": [],
   "source": [
    "# 提取没有得分的建筑物和带有得分的建筑物\n",
    "no_score = features[features['score'].isna()]\n",
    "score = features[features['score'].notnull()]\n",
    "\n",
    "print(no_score.shape)\n",
    "print(score.shape)"
   ]
  },
  {
   "cell_type": "code",
   "execution_count": null,
   "metadata": {},
   "outputs": [],
   "source": [
    "# 将特征和目标分离开\n",
    "features = score.drop(columns = 'score')\n",
    "targets = pd.DataFrame(score['score'])\n",
    "\n",
    "# 用 nan 替换 inf and -inf （required for later imputation）\n",
    "features = features.replace({np.inf: np.nan, -np.inf: np.nan})\n",
    "\n",
    "# 按照 7：3 的比例划分训练集和测试集\n",
    "\n",
    "X, X_test, y, y_test = train_test_split(features, targets, test_size = 0.3, random_state = 42)\n",
    "\n",
    "print(X.shape)\n",
    "print(X_test.shape)\n",
    "print(y.shape)\n",
    "print(y_test.shape)"
   ]
  },
  {
   "cell_type": "markdown",
   "metadata": {},
   "source": [
    "我们有1858座没有得分的建筑，6622座建筑物在训练集中得分，2839座建筑物在测试组中得分。\n",
    "\n",
    "接下来为我们的模型确定一个简单的基线！"
   ]
  },
  {
   "cell_type": "markdown",
   "metadata": {},
   "source": [
    "## 3.4 建立Baseline\n",
    "\n",
    "在我们开始制作机器学习模型之前建立一个基线是很重要的。 \n",
    "* 如果我们构建的模型不能胜过基线，那么我们可能不得不承认机器学习不适合这个问题。 这可能是\n",
    "   * 因为我们没有使用正确的模型，\n",
    "   * 因为我们需要更多的数据，\n",
    "   * 或者因为有一个更简单的解决方案不需要机器学习。 \n",
    "   \n",
    "建立基线至关重要，因此我们最终可能不会构建机器学习模型，只是意识到我们无法真正解决问题。\n",
    "\n",
    "对于回归任务，一个好的基线是为测试集上的所有实例预测目标在训练集上的中值。 这很容易实现，并为我们的模型设置了相对较低的标准：如果它们不能比猜测中值更好，那么我们需要重新考虑我们的方法。"
   ]
  },
  {
   "cell_type": "markdown",
   "metadata": {},
   "source": [
    "#### 度量标准：平均绝对误差 - Mean Absolute Error（MAE）\n",
    "\n",
    "机器学习任务中使用了许多指标，很难知道[选择哪一个](https://www.analyticsvidhya.com/blog/2016/02/7-important-model-evaluation-error-metrics/)。大多数情况下，它将取决于特定问题，如果你有一个特定的目标需要优化。\n",
    "\n",
    "[Andrew Ng](https://www.coursera.org/learn/machine-learning-projects/lecture/wIKkC/single-number-evaluation-metric)建议使用单个实值性能指标来比较模型，因为它简化了评估过程。我们应该使用一个数字，而不是计算多个指标并尝试确定每个指标的重要程度。\n",
    "\n",
    " * 在这种情况下，因为我们进行回归，所以[平均绝对误差](https://people.duke.edu/~rnau/compare.htm)是适当的度量。\n",
    "\n",
    "* 这也是可以解释的，因为它代表我们估算的平均数量，如果与目标值单位相同。\n",
    "\n",
    "下面的函数计算真实值和预测之间的平均绝对误差。"
   ]
  },
  {
   "cell_type": "code",
   "execution_count": null,
   "metadata": {},
   "outputs": [],
   "source": [
    "def mae(y_true, y_pred):\n",
    "    return np.mean(abs(y_true - y_pred))"
   ]
  },
  {
   "cell_type": "markdown",
   "metadata": {},
   "source": [
    "现在我们可以进行中位数猜测并在测试集上进行评估。"
   ]
  },
  {
   "cell_type": "code",
   "execution_count": null,
   "metadata": {},
   "outputs": [],
   "source": [
    "baseline_guess = np.median(y)\n",
    "\n",
    "print('The baseline guess is a score of %0.2f' % baseline_guess)\n",
    "print(\"Baseline Performance on the test set: MAE = %0.4f\" % mae(y_test, baseline_guess))"
   ]
  },
  {
   "cell_type": "markdown",
   "metadata": {},
   "source": [
    "这表明我们对测试集的平均估计偏差约25个百分点。因为得分在1到100之间，这意味着来自基线方法的平均误差约为25％。猜测训练中值的 naive 方法为我们的模型提供了一个低基线！"
   ]
  },
  {
   "cell_type": "markdown",
   "metadata": {},
   "source": [
    "### 小结\n",
    "\n",
    "到目前为止，我们完成了\n",
    "\n",
    "1. 清理并格式化原始数据\n",
    "2. 进行探索性数据分析以了解数据集\n",
    "3. 开发了一系列我们将用于模型的特征\n",
    "\n",
    "最后，我们还完成了建立我们可以判断我们的机器学习算法的Baseline的关键步骤。希望你开始了解机器学习管道的每个部分是如何流入下一个管道的： \n",
    "* 清理数据并将其转换为正确的格式允许我们执行探索性数据分析。 \n",
    "* 然后，EDA在特征工程和选择阶段影响我们的决策。\n",
    "\n",
    "这三个步骤通常按此顺序执行，但我们可能会稍后再回来，根据我们的建模结果进行更多的EDA或特征工程。 数据科学是一个迭代过程，我们一直在寻找改进以前工作的方法。"
   ]
  },
  {
   "cell_type": "markdown",
   "metadata": {},
   "source": [
    "如果需要保存已经处理好的数据集可以用下面的代码：\n",
    "* `X` 保存为 `training_features.csv`\n",
    "* `X_test`保存为 `testing_features.csv`\n",
    "* `y` 保存为 `training_labels.csv`\n",
    "* `y_test` 保存为`testing_labels.csv`"
   ]
  },
  {
   "cell_type": "code",
   "execution_count": null,
   "metadata": {},
   "outputs": [],
   "source": [
    "# Save the no scores, training, and testing data\n",
    "no_score.to_csv('data/no_score.csv', index = False)\n",
    "X.to_csv('data/training_features.csv', index = False)\n",
    "X_test.to_csv('data/testing_features.csv', index = False)\n",
    "y.to_csv('data/training_labels.csv', index = False)\n",
    "y_test.to_csv('data/testing_labels.csv', index = False)"
   ]
  },
  {
   "cell_type": "markdown",
   "metadata": {},
   "source": [
    "导入一些我们需要的包"
   ]
  },
  {
   "cell_type": "code",
   "execution_count": null,
   "metadata": {},
   "outputs": [],
   "source": [
    "# 输入缺失值和缩放值\n",
    "from sklearn.preprocessing import  MinMaxScaler\n",
    "from sklearn.impute import SimpleImputer\n",
    "# 机器学习模型\n",
    "from sklearn.linear_model import LinearRegression\n",
    "from sklearn.ensemble import RandomForestRegressor, GradientBoostingRegressor\n",
    "from sklearn.svm import SVR\n",
    "from sklearn.neighbors import KNeighborsRegressor\n",
    "\n",
    "# 超参数调整\n",
    "from sklearn.model_selection import RandomizedSearchCV, GridSearchCV"
   ]
  },
  {
   "cell_type": "markdown",
   "metadata": {},
   "source": [
    "读取格式化后的数据。"
   ]
  },
  {
   "cell_type": "code",
   "execution_count": null,
   "metadata": {},
   "outputs": [],
   "source": [
    "# Read in data into dataframes \n",
    "train_features = pd.read_csv('data/training_features.csv')\n",
    "test_features = pd.read_csv('data/testing_features.csv')\n",
    "train_labels = pd.read_csv('data/training_labels.csv')\n",
    "test_labels = pd.read_csv('data/testing_labels.csv')\n",
    "\n",
    "# Display sizes of data\n",
    "print('Training Feature Size: ', train_features.shape)\n",
    "print('Testing Feature Size:  ', test_features.shape)\n",
    "print('Training Labels Size:  ', train_labels.shape)\n",
    "print('Testing Labels Size:   ', test_labels.shape)"
   ]
  },
  {
   "cell_type": "markdown",
   "metadata": {},
   "source": [
    "**注意**;这是格式化数据的样子。 在前3个步骤中，我们通过获取变量的自然对数来设计多个特征，包括两个分类变量，并通过删除高共线特征来选择特征的子集。\n"
   ]
  },
  {
   "cell_type": "code",
   "execution_count": null,
   "metadata": {},
   "outputs": [],
   "source": [
    "train_features.head(12)"
   ]
  },
  {
   "cell_type": "code",
   "execution_count": null,
   "metadata": {},
   "outputs": [],
   "source": [
    "train_features.describe()"
   ]
  },
  {
   "cell_type": "markdown",
   "metadata": {},
   "source": [
    "The score 列包含能源之星分数，这是我们机器学习问题的目标。 能源之星评分应该是对建筑物能效的一种比较测量，尽管我们看到第一部分的计算方法可能存在问题！\n",
    "\n",
    "这是能源之星得分的分布。"
   ]
  },
  {
   "cell_type": "code",
   "execution_count": null,
   "metadata": {},
   "outputs": [],
   "source": [
    "figsize(8, 8)\n",
    "\n",
    "# Histogram of the Energy Star Score\n",
    "plt.style.use('fivethirtyeight')\n",
    "plt.hist(train_labels['score'].dropna(), bins = 100);\n",
    "plt.xlabel('Score'); \n",
    "plt.ylabel('Number of Buildings'); \n",
    "plt.title('ENERGY Star Score Distribution');"
   ]
  },
  {
   "cell_type": "markdown",
   "metadata": {},
   "source": [
    "# 4. 基于性能指标比较几种机器学习模型"
   ]
  },
  {
   "cell_type": "markdown",
   "metadata": {},
   "source": [
    "\n",
    "在本节中，我们将为我们的监督回归任务构建，训练和评估几种机器学习方法。 目标是确定哪个模型最有希望进一步开发（例如超参数调整）。 我们使用平均绝对误差比较模型。 猜测得分中值的基线模型平均偏离25分。"
   ]
  },
  {
   "cell_type": "markdown",
   "metadata": {},
   "source": [
    "## 4.1 输入缺失值\n",
    "\n",
    "标准机器学习模型无法处理缺失值，这意味着我们必须找到一种方法来填充这些缺失值或丢弃任何具有缺失值的特征。 由于我们已经删除了第一部分中缺失值超过50％的特征，因此我们将重点关注这些缺失值，即称为插补 ([imputation](https://en.wikipedia.org/wiki/Imputation_(statistics)))的过程。 有许多插补方法，但在这里我们将使用相对简单的方法用列的**中位数**替换缺失值。([Here is a more thorough discussion on imputing missing values](http://www.stat.columbia.edu/~gelman/arm/missing.pdf))\n",
    "\n",
    "在下面的代码中，我们**创建一个Scikit-learn Imputer对象，用列的中位数填充缺失值**。 请注意，\n",
    "\n",
    "* 我们在**训练数据**上训练了imputer（使用Imputer.fit方法），但没有训练**测试数据**。 \n",
    "\n",
    "* 然后我们转换（使用Imputer.transform）训练数据和测试数据。 这意味着**测试集**中的缺失值用**训练集**中相应列的中值填充。 [我们必须现在这样做](https://stackoverflow.com/a/46692001)而不是在部署时，是因为我们必须根据以前的训练数据将缺失值归入新观察中。 这是避免称为[数据泄漏](https://www.kaggle.com/dansbecker/data-leakage)问题的一种方法，其中来自测试集的信息“泄漏”到训练过程中。"
   ]
  },
  {
   "cell_type": "code",
   "execution_count": null,
   "metadata": {},
   "outputs": [],
   "source": [
    "# 使用中位数填充策略创建一个imputer对象\n",
    "imputer = SimpleImputer(strategy = 'median')\n",
    "\n",
    "# Train on the training features\n",
    "imputer.fit(train_features)\n",
    "\n",
    "# 转换训练数据和测试数据\n",
    "X = imputer.transform(train_features)\n",
    "X_test = imputer.transform(test_features)"
   ]
  },
  {
   "cell_type": "code",
   "execution_count": null,
   "metadata": {},
   "outputs": [],
   "source": [
    "print('Missing values in training features:', np.sum(np.isnan(X)))\n",
    "print('Missing values in testing features:',np.sum(np.isnan(X_test)))"
   ]
  },
  {
   "cell_type": "code",
   "execution_count": null,
   "metadata": {},
   "outputs": [],
   "source": [
    "# Make sure all values are finite\n",
    "# 确保所有值都是有限的\n",
    "\n",
    "print(np.where(~np.isfinite(X)))\n",
    "print(np.where(~np.isfinite(X_test)))"
   ]
  },
  {
   "cell_type": "markdown",
   "metadata": {},
   "source": [
    "在插补后，所有特征都是实值的。 对于更复杂的插补方法（尽管中值通常很有效），请查看 [this article](https://www.tandfonline.com/doi/full/10.1080/1743727X.2014.979146)\n",
    "\n",
    "\n",
    "\n",
    "## 4.2 特征缩放"
   ]
  },
  {
   "cell_type": "markdown",
   "metadata": {},
   "source": [
    "在我们构建模型之前要采取的最后一步是[特征缩放](https://en.wikipedia.org/wiki/Feature_scaling)。这是很有必要的，因为特征具有不同的单位，我们希望对特征进行标准化，以使单位不影响算法。\n",
    "* [线性回归和随机森林不需要特征缩放](https://stats.stackexchange.com/questions/121886/when-should-i-apply-feature-scaling-for-my-data)\n",
    "* 但其他方法（例如支持向量机和k-最近邻）确实需要它，因为它们考虑了观测之间的欧氏距离。因此，在比较多个算法时，最佳做法是特征缩放。\n",
    "\n",
    "有两种[特征缩放](http://scikit-learn.org/stable/auto_examples/preprocessing/plot_scaling_importance.html)的方法：\n",
    "\n",
    "* 对于每个值，减去特征的平均值并除以特征的标准偏差。这称为标准化，并且导致每个特征具有0的均值和1的标准偏差。\n",
    "* 对于每个值，减去特征的最小值并除以最大值减去特征的最小值（范围）。这可以确保特征的所有值都在0到1之间，这称为缩放到范围或标准化。\n",
    "\n",
    "这是一篇关于[normalization and standardization](https://machinelearningmastery.com/normalize-standardize-machine-learning-data-weka/).的好文章。与插补一样，\n",
    "* 当我们训练缩放对象时，我们只想使用训练集。\n",
    "* 当我们转换特征时，我们将转换训练集和测试集。"
   ]
  },
  {
   "cell_type": "code",
   "execution_count": null,
   "metadata": {},
   "outputs": [],
   "source": [
    "# Create the scaler object with a range of 0-1 - 创建范围为0-1的缩放器对象\n",
    "scaler = MinMaxScaler(feature_range=(0, 1))\n",
    "\n",
    "# Fit on the training data\n",
    "scaler.fit(X)\n",
    "\n",
    "# 转换训练数据和测试数据\n",
    "X = scaler.transform(X)\n",
    "X_test = scaler.transform(X_test)"
   ]
  },
  {
   "cell_type": "code",
   "execution_count": null,
   "metadata": {},
   "outputs": [],
   "source": [
    "# Convert y to one-dimensional array (vector)\n",
    "y = np.array(train_labels).reshape((-1, ))\n",
    "y_test = np.array(test_labels).reshape((-1, ))"
   ]
  },
  {
   "cell_type": "markdown",
   "metadata": {},
   "source": [
    "## 4.3 - 需要评估的模型\n",
    "\n",
    "我们将使用[Scikit-Learn library](http://scikit-learn.org/stable/)比较五种不同的机器学习模型 ：\n",
    "\n",
    "* [线性回归](https://github.com/DeqianBai/Hands-on-Machine-Learning/blob/master/02_Housing.ipynb)\n",
    "* [支持向量机回归](https://github.com/DeqianBai/Hands-on-Machine-Learning/blob/master/05_Support%20Vector%20Machines.ipynb)\n",
    "* [随机森林回归](https://github.com/DeqianBai/Hands-on-Machine-Learning/blob/master/07_Ensemble%20Learning%20and%20Random%20Forests.ipynb)\n",
    "* [Gradient Boosting 回归](https://github.com/DeqianBai/Hands-on-Machine-Learning/blob/master/07_Ensemble%20Learning%20and%20Random%20Forests.ipynb)\n",
    "* [K-Nearest Neighbors回归]\n",
    "\n",
    "除了最后一个，上面四个都给出了很好的学习材料，是Hands-On Machine Learning的中文学习笔记。除了Hands-On Machine Learning之外，另一个用于机器学习模型学习的优秀资源是 [An Introduction to Statistical Learning](http://www-bcf.usc.edu/~gareth/ISL/).\n",
    "\n",
    "为了比较模型，我们将主要使用Scikit-Learn默认的模型超参数值。 通常这些将表现得很好，但应该在实际使用模型之前进行优化。\n",
    "\n",
    "* 首先，我们只想确定每个模型的baseline性能，\n",
    "* 然后我们可以选择性能最佳的模型，以便使用超参数调整进行进一步优化。请记住，默认的超参数将启动并运行模型，但几乎总是应该使用某种搜索来调整以找到问题的最佳设置！ \n",
    "\n",
    "Here is what the Scikit-learn documentation [says about the defaults](https://arxiv.org/abs/1309.0238):\n",
    "\n",
    "    __Sensible defaults__: Whenever an operation requires a user-defined parameter,\n",
    "    an appropriate default value is defined by the library. The default value\n",
    "    should cause the operation to be performed in a sensible way (giving a baseline\n",
    "    solution for the task at hand.)\n",
    "\n",
    "关于scikit-learn的最好的一点是**所有模型都以相同的方式实现**：一旦你知道如何构建一个模型，你就可以实现**一系列**极其多样化的模型。 在这里，我们将在几行代码中实现许多模型的整个训练和测试程序。"
   ]
  },
  {
   "cell_type": "code",
   "execution_count": null,
   "metadata": {},
   "outputs": [],
   "source": [
    "# 用于计算平均绝对误差的函数\n",
    "def mae (y_true,y_pred):\n",
    "    return np.mean(abs(y_true - y_pred))\n",
    "\n",
    "# 接受模型，训练模型，并在测试集上评估模型\n",
    "\n",
    "def fit_and_evaluate(model):\n",
    "    \n",
    "    # 训练模型\n",
    "    model.fit(X,y)\n",
    "    \n",
    "    # 做出预测和评估\n",
    "    model_pred = model.predict(X_test)\n",
    "    model_mae = mae(y_test,model_pred)\n",
    "    \n",
    "    # 返回性能指标\n",
    "    return model_mae"
   ]
  },
  {
   "cell_type": "code",
   "execution_count": null,
   "metadata": {},
   "outputs": [],
   "source": [
    "# 线性回归\n",
    "lr = LinearRegression()\n",
    "lr_mae = fit_and_evaluate(lr)\n",
    "\n",
    "print('Linear Regression Performance on the test set: MAE = %0.4f'% lr_mae)"
   ]
  },
  {
   "cell_type": "code",
   "execution_count": null,
   "metadata": {},
   "outputs": [],
   "source": [
    "# 支持向量机\n",
    "svm = SVR(C=1000,gamma =0.1)\n",
    "svm_mae = fit_and_evaluate(svm)\n",
    "\n",
    "print('Support Vector Machine Regression Performance on the test set: MAE = %0.4f' % svm_mae)"
   ]
  },
  {
   "cell_type": "code",
   "execution_count": null,
   "metadata": {},
   "outputs": [],
   "source": [
    "# 随机森林\n",
    "random_forest = RandomForestRegressor(random_state = 60)\n",
    "random_forest_mae = fit_and_evaluate(random_forest)\n",
    "\n",
    "print('Random Forest Regression Performance on the test set: MAE = %0.4f' % random_forest_mae)"
   ]
  },
  {
   "cell_type": "code",
   "execution_count": null,
   "metadata": {},
   "outputs": [],
   "source": [
    "# Gradient Boosting Regression\n",
    "gradient_boosted = GradientBoostingRegressor(random_state=60)\n",
    "gradient_boosted_mae = fit_and_evaluate(gradient_boosted)\n",
    "\n",
    "print('Gradient Boosted Regression Performance on the test set: MAE = %0.4f' % gradient_boosted_mae)"
   ]
  },
  {
   "cell_type": "code",
   "execution_count": null,
   "metadata": {},
   "outputs": [],
   "source": [
    "# K-Nearest Neighbors Regression\n",
    "knn = KNeighborsRegressor(n_neighbors=10)\n",
    "knn_mae = fit_and_evaluate(knn)\n",
    "\n",
    "print('K-Nearest Neighbors Regression Performance on the test set: MAE = %0.4f' % knn_mae)"
   ]
  },
  {
   "cell_type": "code",
   "execution_count": null,
   "metadata": {},
   "outputs": [],
   "source": [
    "plt.style.use('fivethirtyeight')\n",
    "figsize(8, 4)\n",
    "\n",
    "# Dataframe to hold the results\n",
    "model_comparison = pd.DataFrame({'model':['Linear Regression',\n",
    "                                          'Support Vector Machine',\n",
    "                                          'Random Forest',\n",
    "                                          'Gradient Boosted',\n",
    "                                          'K-Nearest Neighbors'],\n",
    "                                'mae':[lr_mae,\n",
    "                                       svm_mae,\n",
    "                                       random_forest_mae, \n",
    "                                       gradient_boosted_mae, \n",
    "                                       knn_mae]})\n",
    "# 测试集上 mae的水平条形图\n",
    "model_comparison.sort_values('mae',ascending = False).plot(x = 'model',\n",
    "                                                           y = 'mae',\n",
    "                                                           kind = 'barh',\n",
    "                                                           color = 'red', \n",
    "                                                           edgecolor = 'black')\n",
    "# 绘图格式\n",
    "plt.ylabel('');\n",
    "plt.yticks(size = 14);\n",
    "\n",
    "plt.xlabel('Mean Absolute Error');\n",
    "plt.xticks(size = 14)\n",
    "\n",
    "plt.title('Model Comparison on Test MAE', size = 20);"
   ]
  },
  {
   "cell_type": "markdown",
   "metadata": {},
   "source": [
    "* 根据运行情况（每次精确结果略有变化），梯度增强回归表现最佳，其次是随机森林。 \n",
    "* 我们不得不承认这不是最公平的比较，因为我们主要使用默认的超参数。 特别是对于支持向量回归器，超参数对性能有重要影响。 （随机森林和梯度增强方法非常适合开始，因为性能较少依赖于模型设置）。 \n",
    "* 尽管如此，从这些结果中，我们可以得出结论:**机器学习是适用的**，因为所有模型都明显**优于基线**！\n",
    "\n",
    "从这里开始，我们将专注于使用超参数调优来优化最佳模型。 鉴于此处的结果，我们将专注于使用**GradientBoostingRegressor**。 \n",
    "\n",
    "* 这是Gradient Boosted Trees的Scikit-Learn实现[Gradient Boosted Trees](http://www.ccs.neu.edu/home/vip/teach/MLcourse/4_boosting/slides/gradient_boosting.pdf)，在过去的几年中赢得了许多Kaggle比赛[Kaggle competitions](http://matthewemery.ca/Why-Kagglers-Love-XGBoost/) 。 \n",
    "* Scikit-Learn版本通常比XGBoost版本慢，但在这里我们将坚持使用Scikit-Learn，因为语法更为熟悉。 [这是](https://www.kaggle.com/dansbecker/learning-to-use-xgboost/code) 在XGBoost包中使用实现的指南。"
   ]
  },
  {
   "cell_type": "markdown",
   "metadata": {},
   "source": [
    "# 5. 对最佳模型执行超参数调整，即优化模型\n",
    "\n",
    "在机器学习中，优化模型意味着为特定问题找到最佳的超参数集。"
   ]
  },
  {
   "cell_type": "markdown",
   "metadata": {},
   "source": [
    "## 5.1 超参数\n",
    "\n",
    "\n",
    "模型超参数定义[model hyperparameters are in contrast to model parameters](https://machinelearningmastery.com/difference-between-a-parameter-and-a-hyperparameter/) :\n",
    "\n",
    "* **模型超参数**被认为最好通过机器学习算法来进行设置，在训练之前由数据科学家调整。 例如，随机森林中的树木数量，或者K-Nearest Neighbors Regression中使用的邻居数量。\n",
    "\n",
    "* **模型参数**是模型在训练期间学习的内容，例如线性回归中的权重。\n",
    "\n",
    "我们作为数据科学家通过**选择超参数**来控制模型，这些选择会对模型的最终性能产生显着影响（尽管通常不会像获取更多数据或工程特征那样有效）。调整模型超参数 [Tuning the model hyperparameters](http://scikit-learn.org/stable/modules/grid_search.html) 可以控制模型中欠拟合与过拟合的平衡。 \n",
    "\n",
    "* 我们可以尝试通过制作**更复杂的模型**来校正欠拟合，例如在随机森林中使用更多树或在深度神经网络中使用更多层。 当我们的模型没有足够的容量（自由度）来学习特征和目标之间的关系时，模型会发生**欠拟合并且具有高偏差**。 \n",
    "* 我们可以通过**限制模型的复杂度和应用正则化**来尝试纠正过度拟合。 这可能意味着降低多项式回归的次数，或将衰退层添加到深度神经网络。 **过拟合的模型具有高方差**并且实际上记住了训练集。 \n",
    "\n",
    "**欠拟合和过拟合导致模型在测试集上的泛化性能变差**。\n",
    "\n",
    "选择超参数的问题在于，没有放之四海而皆准的超参数。 因此，对于每个新数据集，我们必须找到最佳设置。 这可能是一个耗时的过程，但幸运的是，在Scikit-Learn中执行此过程有多种选择。更好的是，新的libraries，如epistasis实验室的[TPOT](https://epistasislab.github.io/tpot/) 旨在为你自动完成此过程！ 目前，我们将坚持在Scikit-Learn中手动（有点）这样做，但请继续关注自动模型选择的文章！\n",
    "\n",
    "#### [常见设置超参数的做法有](https://www.jianshu.com/p/1b23afa34a47)：\n",
    "\n",
    "1. **猜测和检查**：根据经验或直觉，选择参数，一直迭代。\n",
    "2. **网格搜索**：让计算机尝试在一定范围内均匀分布的一组值。\n",
    "3. **随机搜索**：让计算机随机挑选一组值。\n",
    "4. **贝叶斯优化**：使用贝叶斯优化超参数，会遇到贝叶斯优化算法本身就需要很多的参数的困难。\n",
    "5. **在良好初始猜测的前提下进行局部优化**：这就是 MITIE 的方法，它使用 BOBYQA 算法，并有一个精心选择的起始点。由于 BOBYQA 只寻找最近的局部最优解，所以这个方法是否成功很大程度上取决于是否有一个好的起点。在 MITIE 的情下,我们知道一个好的起点，但这不是一个普遍的解决方案，因为通常你不会知道好的起点在哪里。从好的方面来说，这种方法非常适合寻找局部最优解。稍后我会再讨论这一点。\n",
    "6. 最新提出的 **LIPO 的全局优化方法**。这个方法没有参数，而且经验证比随机搜索方法好。\n",
    "\n",
    "下面使用随机搜索和交叉验证进行超参数调整"
   ]
  },
  {
   "cell_type": "markdown",
   "metadata": {},
   "source": [
    "## 5.2 使用随机搜索和交叉验证进行超参数调整"
   ]
  },
  {
   "cell_type": "markdown",
   "metadata": {},
   "source": [
    "**随机搜索**是指我们选择超参数来评估的方法：\n",
    "\n",
    "* 我们定义一系列选项，然后随机选择要尝试的组合。 \n",
    "* 这与网格搜索形成对比，网格搜索评估我们指定的每个组合。\n",
    "\n",
    "通常，当我们对最佳模型超参数的知识有限时，随机搜索会更好，我们可以使用随机搜索缩小选项范围，然后使用更有限的选项范围进行网格搜索。\n",
    "\n",
    "**交叉验证**是用于评估超参数性能的方法：我们使用K-Fold交叉验证，而不是将训练设置拆分为单独的训练和验证集，以减少我们可以使用的训练数据量。\n",
    "\n",
    "* 这意味着将训练数据划分为K个折叠，然后进行迭代过程，我们首先在K-1个折叠上进行训练，然后评估第K个折叠的性能。\n",
    "   * 我们重复这个过程K次，所以最终我们将测试训练数据中的每个例子，关键是每次迭代我们都在测试我们之前没有训练过的数据。\n",
    "\n",
    "* 在K-Fold交叉验证结束时，我们将每个K次迭代的平均误差作为最终性能度量，然后立即在所有训练数据上训练模型。\n",
    "\n",
    "* 我们记录的性能用于比较超参数的不同组合。"
   ]
  },
  {
   "attachments": {
    "image.png": {
     "image/png": "[encoded data removed]"
    }
   },
   "cell_type": "markdown",
   "metadata": {},
   "source": [
    "A picture of k-fold cross validation using k = 5 is shown below:\n",
    "\n",
    "![image.png](attachment:image.png)\n",
    "\n",
    "在这里，我们将使用**交叉验证实现随机搜索**，以选择梯度增强回归量的最佳超参数。我们首先定义一个网格，然后执行以下迭代过程：\n",
    "\n",
    "* 从网格中随机抽样一组超参数，使用4倍交叉验证评估超参数，\n",
    "* 然后选择具有最佳性能的超参数。\n",
    "\n",
    "当然，我们实际上并没有自己做这个迭代，我们让Scikit-Learn和`RandomizedSearchCV`为我们完成这个过程！"
   ]
  },
  {
   "cell_type": "code",
   "execution_count": null,
   "metadata": {},
   "outputs": [],
   "source": [
    "# 要优化的损失函数\n",
    "loss = ['ls','lad','huber']\n",
    "\n",
    "# 梯度增强过程中使用的树的数量\n",
    "n_estimators = [100,500, 900, 1100,1500]\n",
    "\n",
    "#  树的最大深度\n",
    "max_depth = [2,3,5,10,15]\n",
    "\n",
    "# 每片叶子的最小样本数\n",
    "min_samples_leaf = [1,2,4,6,8]\n",
    "\n",
    "# 拆分节点的最小样本数\n",
    "min_samples_split = [2, 4, 6, 10]\n",
    "\n",
    "# 进行拆分时要考虑的最大特征数\n",
    "max_features = ['auto', 'sqrt', 'log2', None]\n",
    "\n",
    "# 定义要进行搜索的超参数网格\n",
    "hyperparameter_grid = {'loss': loss,\n",
    "                       'n_estimators': n_estimators,\n",
    "                       'max_depth': max_depth,\n",
    "                       'min_samples_leaf': min_samples_leaf,\n",
    "                       'min_samples_split': min_samples_split,\n",
    "                       'max_features': max_features}  "
   ]
  },
  {
   "cell_type": "markdown",
   "metadata": {},
   "source": [
    "我们选择了6个不同的超参数来调整梯度增强回归量。 这些都将以不同的方式影响模型，这些方法很难提前确定，找到特定问题的最佳组合的唯一方法是测试它们！ 要了解超参数，可以查看[Scikit-Learn](http://scikit-learn.org/stable/modules/generated/sklearn.ensemble.GradientBoostingRegressor.html#sklearn.ensemble.GradientBoostingRegressor)文档"
   ]
  },
  {
   "cell_type": "markdown",
   "metadata": {},
   "source": [
    "在下面的代码中，我们创建了随机搜索对象，传递以下参数：\n",
    "\n",
    "* `estimator`: 模型\n",
    "* `param_distributions`: 我们定义的参数的分布\n",
    "* `cv` ：用于k-fold交叉验证的folds 数量\n",
    "* `n_iter`: 不同的参数组合的数量\n",
    "* `scoring`: 评估候选参数时使用的指标\n",
    "* `n_jobs`: 核的数量（-1 时全部使用）\n",
    "* `verbose`: 显示信息的数量\n",
    "* `return_train_score`: 每一个cross-validation fold 返回的分数\n",
    "* `random_state`: 修复使用的随机数生成器，因此每次运行都会得到相同的结果\n",
    "\n",
    "随机搜索对象的训练方式与任何其他scikit-learn模型相同。训练之后，我们可以比较所有不同的超参数组合，找到效果最好的组合。"
   ]
  },
  {
   "cell_type": "code",
   "execution_count": null,
   "metadata": {},
   "outputs": [],
   "source": [
    "# Create the model to use for hyperparameter tuning\n",
    "model = GradientBoostingRegressor(random_state = 42)\n",
    "\n",
    "# Set up the random search with 4-fold cross validation\n",
    "random_cv = RandomizedSearchCV(estimator=model,\n",
    "                               param_distributions=hyperparameter_grid,\n",
    "                               cv=4, n_iter=25, \n",
    "                               scoring = 'neg_mean_absolute_error',\n",
    "                               n_jobs = -1, verbose = 1, \n",
    "                               return_train_score = True,\n",
    "                               random_state=42)"
   ]
  },
  {
   "cell_type": "code",
   "execution_count": null,
   "metadata": {},
   "outputs": [],
   "source": [
    "# Fit on the training data\n",
    "random_cv.fit(X, y)"
   ]
  },
  {
   "cell_type": "markdown",
   "metadata": {},
   "source": [
    "Scikit-learn使用负平均绝对误差进行评估，因为它希望度量最大化。因此，更好的分数将接近0。\n",
    "\n",
    "我们可以将随机搜索的结果导入数据帧，并按性能对值进行排序。"
   ]
  },
  {
   "cell_type": "code",
   "execution_count": null,
   "metadata": {},
   "outputs": [],
   "source": [
    "# 获取所有cv结果并按测试性能排序\n",
    "random_results = pd.DataFrame(random_cv.cv_results_).sort_values('mean_test_score', ascending = False)\n",
    "\n",
    "random_results.head(10)"
   ]
  },
  {
   "cell_type": "code",
   "execution_count": null,
   "metadata": {},
   "outputs": [],
   "source": [
    "random_cv.best_estimator_"
   ]
  },
  {
   "cell_type": "markdown",
   "metadata": {},
   "source": [
    "最佳梯度增强模型具有以下超参数：\n",
    "\n",
    "* `loss = lad`\n",
    "* `n_estimators = 500`\n",
    "* `max_depth = 5`\n",
    "* `min_samples_leaf = 6`\n",
    "* `min_samples_split = 6`\n",
    "* `max_features = None` (This means that `max_features = n_features` according to the docs)"
   ]
  },
  {
   "cell_type": "markdown",
   "metadata": {},
   "source": [
    "使用随机搜索是缩小可能的超参数以尝试的好方法。最初，我们不知道哪种组合效果最好，但这至少缩小了选项的范围。我们可以通过使用随机搜索结果来创建具有超参数的网格来进行网格搜索，这些参数接近于在随机搜索期间最佳的参数。\n",
    "\n",
    "但是，我们不会再次评估所有这些设置，而是将**重点放在**单个树林中的树的数量（n_estimators）上。通过仅改变一个超参数，我们可以直接观察它如何影响性能。我们预计会看到树木数量对欠拟合和过拟合的影响。在这里，\n",
    "\n",
    "* 我们将使用**仅具有n_estimators超参数的网格进行网格搜索**。\n",
    "* 我们将评估一系列的树，然后绘制训练和测试性能，以了解增加树的数量对模型的影响。\n",
    "* 我们将其他超参数固定为从随机搜索返回的最佳值，以隔离树的数量影响。"
   ]
  },
  {
   "cell_type": "code",
   "execution_count": null,
   "metadata": {},
   "outputs": [],
   "source": [
    "# 创建一系列要评估的树\n",
    "trees_grid = {\n",
    "    'n_estimators': [\n",
    "        100, 150, 200, 250, 300, 350, 400, 450, 500, 550, 600, 650, 700, 750,\n",
    "        800\n",
    "    ]\n",
    "}\n",
    "\n",
    "model = GradientBoostingRegressor(loss='lad',\n",
    "                                  max_depth=5,\n",
    "                                  min_samples_leaf=6,\n",
    "                                  min_samples_split=6,\n",
    "                                  max_features=None,\n",
    "                                  random_state=42)\n",
    "\n",
    "# 使用树的范围和随机森林模型的网格搜索对象\n",
    "grid_search = GridSearchCV(estimator=model,\n",
    "                           param_grid=trees_grid,\n",
    "                           cv=4,\n",
    "                           scoring='neg_mean_absolute_error',\n",
    "                           verbose=1,\n",
    "                           n_jobs=-1,\n",
    "                           return_train_score=True)"
   ]
  },
  {
   "cell_type": "code",
   "execution_count": null,
   "metadata": {},
   "outputs": [],
   "source": [
    "# Fit the grid search\n",
    "grid_search.fit(X, y)"
   ]
  },
  {
   "cell_type": "code",
   "execution_count": null,
   "metadata": {},
   "outputs": [],
   "source": [
    "# 将结果导入数据框\n",
    "results = pd.DataFrame(grid_search.cv_results_)\n",
    "\n",
    "# 绘制训练误差和测试误差与树木数量的关系图\n",
    "figsize(8, 8)\n",
    "plt.style.use('fivethirtyeight')\n",
    "plt.plot(results['param_n_estimators'], -1 * results['mean_test_score'], label = 'Testing Error')\n",
    "plt.plot(results['param_n_estimators'], -1 * results['mean_train_score'], label = 'Training Error')\n",
    "plt.xlabel('Number of Trees'); plt.ylabel('Mean Abosolute Error'); plt.legend();\n",
    "plt.title('Performance vs Number of Trees');"
   ]
  },
  {
   "cell_type": "markdown",
   "metadata": {},
   "source": [
    "按性能对值进行排序。"
   ]
  },
  {
   "cell_type": "code",
   "execution_count": null,
   "metadata": {},
   "outputs": [],
   "source": [
    "results.sort_values('mean_test_score', ascending = False).head(5)"
   ]
  },
  {
   "cell_type": "markdown",
   "metadata": {},
   "source": [
    "很明显我们的模型**过拟合**了！训练误差明显低于测试误差，这表明模型正在很好地学习训练数据，但是无法推广到测试数据。随着树木数量的增加，\n",
    "* 过拟合现象会更严重\n",
    "* 测试和训练误差都会减少，但训练误差会减少的更多。\n",
    "\n",
    "训练误差和测试误差之间始终存在差异（训练误差始终较低）但如果存在显着差异，我们希望通过**获取更多训练数据或通过超参数调整或正则化降低模型的复杂度**来尝试减少过拟合。对于gradient boosting regressor，一些选项包括:\n",
    "\n",
    "* 减少树的数量\n",
    "* 减少每棵树的最大深度\n",
    "* 以及增加叶节点中的最小样本数。\n",
    "\n",
    "对于任何想要进一步深入渐变增强回归量的人来说，[这是一篇很棒的文章](http://blog.kaggle.com/2017/01/23/a-kaggle-master-explains-gradient-boosting/)。目前，我们将使用具有最佳性能的模型，并接受它可能过拟合到训练集。\n",
    "\n",
    "根据交叉验证结果，使用800树的最佳模型，实现交叉验证误差在9一下。这表明能源之星得分的平均交叉验证估计与真实值的误差在9%以内！"
   ]
  },
  {
   "cell_type": "markdown",
   "metadata": {},
   "source": [
    "# 6. 在测试集上评估最佳模型"
   ]
  },
  {
   "cell_type": "markdown",
   "metadata": {},
   "source": [
    "我们将使用超参数调整中的最佳模型来对测试集进行预测。 请记住，我们的模型之前从未见过测试集，所以这个性能应该是模型在现实世界中部署时的表现的一个很好的指标。\n",
    "\n",
    "为了比较，我们还可以查看默认模型的性能。 下面的代码创建最终模型，训练它（会有计时），并评估测试集。"
   ]
  },
  {
   "cell_type": "code",
   "execution_count": null,
   "metadata": {},
   "outputs": [],
   "source": [
    "# 默认模型\n",
    "default_model = GradientBoostingRegressor(random_state = 42)\n",
    "\n",
    "# 选择最佳模型\n",
    "final_model = grid_search.best_estimator_\n",
    "\n",
    "final_model"
   ]
  },
  {
   "cell_type": "code",
   "execution_count": null,
   "metadata": {},
   "outputs": [],
   "source": [
    "%%timeit -n 1 -r 5\n",
    "default_model.fit(X, y)"
   ]
  },
  {
   "cell_type": "code",
   "execution_count": null,
   "metadata": {},
   "outputs": [],
   "source": [
    "%%timeit -n 1 -r 5\n",
    "final_model.fit(X, y)"
   ]
  },
  {
   "cell_type": "code",
   "execution_count": null,
   "metadata": {},
   "outputs": [],
   "source": [
    "default_pred = default_model.predict(X_test)\n",
    "final_pred = final_model.predict(X_test)\n",
    "\n",
    "print('Default model performance on the test set: MAE = %0.4f.' % mae(y_test, default_pred))\n",
    "print('Final model performance on the test set:   MAE = %0.4f.' % mae(y_test, final_pred))"
   ]
  },
  {
   "cell_type": "markdown",
   "metadata": {},
   "source": [
    "最终的模型比基线模型的性能提高了大约10％，但代价是显着增加了运行时间。 机器学习通常是一个需要权衡的领域：\n",
    "\n",
    "* **偏差与方差**\n",
    "* **准确性与可解释性**\n",
    "* **准确性与运行时间**\n",
    "* **以及使用哪种模型** \n",
    "\n",
    "最终决定取决于具体情况。 这里，运行时间的增加不是障碍，因为虽然相对差异很大，但训练时间的绝对量值并不显着。 在不同的情况下，权衡可能不一样，因此我们需要考虑我们正在优化的内容以及我们必须使用的限制。\n",
    "\n",
    "为了了解预测，我们可以绘制下面两个值的分布：\n",
    "* 测试集上的真值\n",
    "* 测试集上的预测值 "
   ]
  },
  {
   "cell_type": "code",
   "execution_count": null,
   "metadata": {},
   "outputs": [],
   "source": [
    "figsize(8, 8)\n",
    "\n",
    "# Density plot of the final predictions and the test values\n",
    "# 最终预测的密度图和测试值\n",
    "sns.kdeplot(final_pred, label = 'Predictions')\n",
    "sns.kdeplot(y_test, label = 'Values')\n",
    "\n",
    "# Label the plot\n",
    "plt.xlabel('Energy Star Score'); plt.ylabel('Density');\n",
    "plt.title('Test Values and Predictions');"
   ]
  },
  {
   "cell_type": "markdown",
   "metadata": {},
   "source": [
    "虽然预测值的密度更接近测试值的中值而不是在100分时的实际峰值，但分布看起来几乎相同。看起来模型在预测极值时可能不太准确，同时预测值 更接近中位数。\n",
    "\n",
    "另一个诊断图是残差的直方图。 理想情况下，我们希望残差是正态分布的，这意味着模型在两个方向（高和低）上误差是相同的。"
   ]
  },
  {
   "cell_type": "code",
   "execution_count": null,
   "metadata": {},
   "outputs": [],
   "source": [
    "figsize = (6, 6)\n",
    "\n",
    "# 计算残差\n",
    "residuals = final_pred - y_test\n",
    "\n",
    "# 绘制残差分布直方图\n",
    "plt.hist(residuals, color = 'red', bins = 20,\n",
    "         edgecolor = 'black')\n",
    "plt.xlabel('Error'); plt.ylabel('Count')\n",
    "plt.title('Distribution of Residuals');"
   ]
  },
  {
   "cell_type": "markdown",
   "metadata": {},
   "source": [
    "残差接近正态分布，低端有一些明显的异常值。 这些表示模型估计远低于真实值的误差。"
   ]
  },
  {
   "cell_type": "markdown",
   "metadata": {},
   "source": [
    "#### 小结\n",
    "\n",
    "在4，5，6 步我们做了一下几件事：\n",
    "* 输入缺失值\n",
    "* 评估和比较几种机器学习方法\n",
    "* 超参数使用随机搜索和交叉验证来调整机器学习模型\n",
    "* 评估测试集上的最佳模型\n",
    "\n",
    "结果表明:\n",
    "* 机器学习适用于我们的问题，最终模型能够将建筑物的能源之星得分的预测误差控制在9.1%以内。\n",
    "* 我们还看到，超参数调整能够改善模型的性能，尽管在投入的时间方面成本相当高。这是一个很好的提示，正确的特征工程和收集更多数据（如果可能！）比微调模型有更大的回报。\n",
    "* 我们还观察了运行时间与精度之间的权衡，这是我们在设计机器学习模型时必须考虑的众多因素之一。"
   ]
  },
  {
   "cell_type": "markdown",
   "metadata": {},
   "source": [
    "我们知道我们的模型是准确的，但我们知道为什么它能做出预测？机器学习过程的下一步至关重要：尝试理解模型如何进行预测。实现高精度是很好的，但如果我们能够找出模型能够准确预测的原因，那么我们也可以使用这些信息来更好地理解问题。例如，\n",
    "\n",
    "* 模型依靠哪些特征来推断能源之星得分？\n",
    "* 可以使用此模型进行特征选择，并实现更易于解释的更简单模型吗？\n",
    "\n",
    "下面，我们将尝试回答这些问题并从项目中得出最终结论！"
   ]
  },
  {
   "cell_type": "markdown",
   "metadata": {},
   "source": [
    "导入一些我们需要的包"
   ]
  },
  {
   "cell_type": "code",
   "execution_count": null,
   "metadata": {},
   "outputs": [],
   "source": [
    "# 机器学习模型\n",
    "from sklearn.linear_model import LinearRegression\n",
    "from sklearn.ensemble import GradientBoostingRegressor\n",
    "\n",
    "from sklearn import tree\n",
    "\n",
    "# LIME用于解释预测\n",
    "import lime \n",
    "import lime.lime_tabular"
   ]
  },
  {
   "cell_type": "markdown",
   "metadata": {},
   "source": [
    "# 7. 解释模型结果\n",
    "\n",
    "机器学习经常被批评为一个黑盒子 [criticized as being a black-box](https://www.technologyreview.com/s/604087/the-dark-secret-at-the-heart-of-ai/):我们把数据在这边放进去，它在另一边给了我们答案。 虽然这些答案通常都非常准确，但该模型并未告诉我们它实际上如何做出预测。 这在某种程度上是正确的，但我们可以通过多种方式尝试并发现模型如何“思考”，例如 [Locally Interpretable Model-agnostic Explainer (LIME)](https://arxiv.org/pdf/1602.04938.pdf). 这种方法试图通过学习围绕预测的线性回归来解释模型预测，这是一个易于解释的模型！\n",
    "\n",
    "我们将探索几种解释模型的方法：\n",
    "\n",
    "* 特征重要性\n",
    "* 本地可解释的模型不可知解释器 (LIME)\n",
    "* 检查整体中的单个决策树"
   ]
  },
  {
   "cell_type": "markdown",
   "metadata": {},
   "source": [
    "## 7.1 特征重要性 \n",
    "我们可以解释决策树集合的基本方法之一是通过所谓的特征重要性。 这些可以解释为最能预测目标的变量。 虽然特征重要性的实际细节非常复杂. ([here is a Stack Overflow question on the subject](https://stackoverflow.com/questions/15810339/how-are-feature-importances-in-randomforestclassifier-determined),但是我们可以使用相对值来比较特征并确定哪些与我们的问题最相关。 \n",
    "\n",
    "在scikit-learn中，从训练好的树中提取特征重要性非常容易。 我们将特征重要性存储在数据框中以分析和可视化它们。"
   ]
  },
  {
   "cell_type": "code",
   "execution_count": null,
   "metadata": {},
   "outputs": [],
   "source": [
    "# 将特征重要性提取到数据结构中\n",
    "feature_results = pd.DataFrame({'feature': list(train_features.columns), \n",
    "                                'importance': final_model.feature_importances_})\n",
    "\n",
    "# 显示最重要的前十名\n",
    "feature_results = feature_results.sort_values('importance', ascending = False).reset_index(drop=True)\n",
    "\n",
    "feature_results.head(10)"
   ]
  },
  {
   "cell_type": "markdown",
   "metadata": {},
   "source": [
    " The Site Energy Use Intensity：`Site EUI (kBtu/ft²)` 和 the Weather Normalized Site Electricity Intensity :`Weather Normalized Site Electricity Intensity (kWh/ft²)`是最重要的两个特征，这之后，特征的相对重要性大幅下降，这表明我们可能不需要保留所有特征来创建具有几乎相同性能的模型。\n",
    " \n",
    "让我们绘制特征重要性直观上进行一下比较"
   ]
  },
  {
   "cell_type": "code",
   "execution_count": null,
   "metadata": {},
   "outputs": [],
   "source": [
    "from IPython.core.pylabtools import figsize\n",
    "\n",
    "figsize(12, 10)\n",
    "plt.style.use('fivethirtyeight')\n",
    "\n",
    "# Plot the 10 most important features in a horizontal bar chart\n",
    "feature_results.loc[:9, :].plot(x = 'feature', y = 'importance', \n",
    "                                 edgecolor = 'k',\n",
    "                                 kind='barh', color = 'blue');\n",
    "plt.xlabel('Relative Importance', size = 20); plt.ylabel('')\n",
    "plt.title('Feature Importances from Random Forest', size = 30);"
   ]
  },
  {
   "cell_type": "markdown",
   "metadata": {},
   "source": [
    "## 7.2 使用特征重要性进行特征选择\n",
    "\n",
    "鉴于并非每个特征对于找到分数都很重要，如果我们使用更简单的模型（如线性回归）和随机森林中最重要特征的子集，会发生什么？ 线性回归确实优于基线，但与复杂模型相比表现不佳。 \n",
    "\n",
    "让我们尝试在**线性回归**中仅使用10个最重要的特征来查看性能是否得到改善。 我们还可以限制这些特征并重新评估随机森林。"
   ]
  },
  {
   "cell_type": "code",
   "execution_count": null,
   "metadata": {},
   "outputs": [],
   "source": [
    "# 提取最重要特征的名称\n",
    "most_important_features = feature_results['feature'][:10]\n",
    "\n",
    "# 找到与每个特征名称对应的索引\n",
    "indices = [list(train_features.columns).index(x) for x in most_important_features]\n",
    "\n",
    "# 数据集中只保留最重要的特征\n",
    "X_reduced = X[:,indices]\n",
    "X_test_reduced = X_test[:,indices]\n",
    "\n",
    "print('Most important training features shape: ', X_reduced.shape)\n",
    "print('Most important testing  features shape: ', X_test_reduced.shape)"
   ]
  },
  {
   "cell_type": "code",
   "execution_count": null,
   "metadata": {},
   "outputs": [],
   "source": [
    "lr = LinearRegression()\n",
    "\n",
    "# Fit on full set of features - 在全部特征上拟合并测试\n",
    "lr.fit(X, y)\n",
    "lr_full_pred = lr.predict(X_test)\n",
    "\n",
    "# Fit on reduced set of features - 在10个最重要的特征上拟合并测试（即减少后的特征上）\n",
    "lr.fit(X_reduced, y)\n",
    "lr_reduced_pred = lr.predict(X_test_reduced)\n",
    "\n",
    "# Display results\n",
    "print('Linear Regression Full Results: MAE =    %0.4f.' % mae(y_test, lr_full_pred))\n",
    "print('Linear Regression Reduced Results: MAE = %0.4f.' % mae(y_test, lr_reduced_pred))"
   ]
  },
  {
   "cell_type": "markdown",
   "metadata": {},
   "source": [
    "可以看出，减少特征并没有改善线性回归的结果！ 事实证明，低重要性特征中的额外信息确实可以提高性能。\n",
    "\n",
    "让我们看看在**gradient boosted regressor**中使用减少的特征集。 性能如何受到影响？"
   ]
  },
  {
   "cell_type": "code",
   "execution_count": null,
   "metadata": {},
   "outputs": [],
   "source": [
    "# 使用相同的超参数创建模型\n",
    "model_reduced = GradientBoostingRegressor(loss='lad', \n",
    "                                          max_depth=5, \n",
    "                                          max_features=None, \n",
    "                                          min_samples_leaf=6, \n",
    "                                          min_samples_split=6,  \n",
    "                                          n_estimators=800, \n",
    "                                          random_state=42)\n",
    "\n",
    "#  在10个最重要的特征上拟合并测试（即减少后的特征上） - Fit and test on the reduced set of features\n",
    "model_reduced.fit(X_reduced, y)\n",
    "model_reduced_pred = model_reduced.predict(X_test_reduced)\n",
    "\n",
    "print('Gradient Boosted Reduced Results: MAE = %0.4f' % mae(y_test, model_reduced_pred))"
   ]
  },
  {
   "cell_type": "markdown",
   "metadata": {},
   "source": [
    "随着特征数量的减少，模型结果稍差，我们将保留最终模型的所有特征。 减少特征数量的初衷是因为我们总是希望构建最简约的模型：\n",
    "\n",
    "* 即具有足够特征的最简单模型\n",
    "* 使用较少特征的模型将更快地训练并且通常更容易解释。\n",
    "\n",
    "在现在这种情况下，保留所有特征并不是主要问题，因为训练时间并不重要，我们仍然可以使用许多特征进行解释。"
   ]
  },
  {
   "cell_type": "markdown",
   "metadata": {},
   "source": [
    "## 7.3 本地可解释的与模型无关的解释\n",
    "\n",
    "\n",
    "我们将使用LIME9([LIME to explain individual predictions](https://github.com/marcotcr/lime) )来解释模型所做的个别预测。 LIME是一项相对较新的工作，旨在通过用线性模型近似预测周围的区域来展示机器学习模型的思考方式。\n",
    "\n",
    "我们将试图解释模型在两个例子上得到的预测结果：\n",
    "\n",
    "* 其中一个例子得到的预测结果非常差\n",
    "* 另一个例子得到的预测结果非常好。 \n",
    "\n",
    "我们将仅仅使用减少后的10个特征来帮助解释。 虽然在10个最重要的特征上训练的模型稍微不准确，但我们通常必须为了可解释性的准确性进行权衡！"
   ]
  },
  {
   "cell_type": "code",
   "execution_count": null,
   "metadata": {},
   "outputs": [],
   "source": [
    "# 找到残差\n",
    "residuals = abs(model_reduced_pred - y_test)\n",
    "    \n",
    "# 提取最差和最好的预测\n",
    "wrong = X_test_reduced[np.argmax(residuals), :]\n",
    "right = X_test_reduced[np.argmin(residuals), :]"
   ]
  },
  {
   "cell_type": "code",
   "execution_count": null,
   "metadata": {},
   "outputs": [],
   "source": [
    "# 创造一个解释器对象\n",
    "explainer = lime.lime_tabular.LimeTabularExplainer(training_data = X_reduced, \n",
    "                                                   mode = 'regression',\n",
    "                                                   training_labels = y,\n",
    "                                                   feature_names = list(most_important_features))"
   ]
  },
  {
   "cell_type": "markdown",
   "metadata": {},
   "source": [
    "对最差预测的解释："
   ]
  },
  {
   "cell_type": "code",
   "execution_count": null,
   "metadata": {},
   "outputs": [],
   "source": [
    "# 显示最差实例的预测值和真实值\n",
    "print('Prediction: %0.4f' % model_reduced.predict(wrong.reshape(1, -1)))\n",
    "print('Actual Value: %0.4f' % y_test[np.argmax(residuals)])\n",
    "\n",
    "# Explanation for wrong prediction\n",
    "# 最差预测的解释\n",
    "wrong_exp = explainer.explain_instance(data_row = wrong, \n",
    "                                       predict_fn = model_reduced.predict)\n",
    "\n",
    "# Plot the prediction explaination\n",
    "# 画出预测解释\n",
    "wrong_exp.as_pyplot_figure();\n",
    "plt.title('Explanation of Prediction', size = 28);\n",
    "plt.xlabel('Effect on Prediction', size = 22);"
   ]
  },
  {
   "cell_type": "code",
   "execution_count": null,
   "metadata": {},
   "outputs": [],
   "source": [
    "wrong_exp.show_in_notebook(show_predicted_value=False)"
   ]
  },
  {
   "cell_type": "markdown",
   "metadata": {},
   "source": [
    "恕我直言这个方法不是特别好，有些数据不知道该怎么解释。"
   ]
  },
  {
   "cell_type": "code",
   "execution_count": null,
   "metadata": {},
   "outputs": [],
   "source": [
    "train_features.describe()"
   ]
  },
  {
   "cell_type": "markdown",
   "metadata": {},
   "source": [
    "对最好预测的解释："
   ]
  },
  {
   "cell_type": "code",
   "execution_count": null,
   "metadata": {},
   "outputs": [],
   "source": [
    "# Display the predicted and true value for the  correct instance\n",
    "print('Prediction: %0.4f' % model_reduced.predict(right.reshape(1, -1)))\n",
    "print('Actual Value: %0.4f' % y_test[np.argmin(residuals)])\n",
    "\n",
    "# Explanation for  correct prediction\n",
    "right_exp = explainer.explain_instance(right, model_reduced.predict, num_features=10)\n",
    "right_exp.as_pyplot_figure();\n",
    "plt.title('Explanation of Prediction', size = 28);\n",
    "plt.xlabel('Effect on Prediction', size = 22);"
   ]
  },
  {
   "cell_type": "code",
   "execution_count": null,
   "metadata": {},
   "outputs": [],
   "source": [
    "right_exp.show_in_notebook(show_predicted_value=False)"
   ]
  },
  {
   "cell_type": "markdown",
   "metadata": {},
   "source": [
    "## 7.4 检查单个决策树\n",
    "\n",
    "基于树的集合最酷的部分之一是我们可以查看任何单个估计器（estimator）。虽然我们的最终模型由800个决策树组成，并且查看单个决策树并不表示整个模型，但它仍然允许我们看到决策树如何工作的一般概念。 从那里开始，想象出数百棵这些树木可以根据以前树木的错误进行最终预测（这是对梯度增强回归如何工作的显著简化）。 \n",
    "\n",
    "我们将\n",
    "* 首先从森林中提取一棵树，\n",
    "* 然后使用`sklearn.tree.export_graphviz`保存它。 这将树保存为`.dot`文件，可以使用Notebook中的命令行指令将其转换为png。"
   ]
  },
  {
   "cell_type": "code",
   "execution_count": null,
   "metadata": {},
   "outputs": [],
   "source": [
    "# 提取单个树\n",
    "single_tree = model_reduced.estimators_[105][0]\n",
    "\n",
    "tree.export_graphviz(single_tree, \n",
    "                     out_file = 'images/tree.dot',\n",
    "                     rounded = True, \n",
    "                     feature_names = most_important_features,\n",
    "                     filled = True)\n",
    "\n",
    "single_tree"
   ]
  },
  {
   "cell_type": "markdown",
   "metadata": {},
   "source": [
    "然后，你可以使用graphviz包中的dot命令行工具将此.dot文件转换为各种格式，如PDF或PNG。下面这条命令行指令将.dot文件转换为.png图像文件：\n",
    "\n",
    "`dot -Tpng images/tree.dot -o images/tree.png`"
   ]
  },
  {
   "cell_type": "markdown",
   "metadata": {},
   "source": [
    "下面的代码是把生成的tree.png 显示出来，具体可以参考：[Jupyter Notebook插入图片的4种方法](https://blog.csdn.net/qq_33039859/article/details/78507316)"
   ]
  },
  {
   "cell_type": "code",
   "execution_count": null,
   "metadata": {},
   "outputs": [],
   "source": [
    "# 你的第一个决策树长这样\n",
    "from IPython.display import Image\n",
    "Image(filename=\"F:/jupyter/machine-learning-project-walkthrough/images/tree.png\")"
   ]
  },
  {
   "cell_type": "markdown",
   "metadata": {},
   "source": [
    "这是我们包含800棵决策树的整棵树！ 这有点难以辨认，因为树的最大深度为5。为了提高可读性，我们可以限制调用中的最大深度来导出树。"
   ]
  },
  {
   "cell_type": "code",
   "execution_count": null,
   "metadata": {},
   "outputs": [],
   "source": [
    "tree.export_graphviz(single_tree, \n",
    "                     out_file = 'images/tree_small.dot',\n",
    "                     rounded = True, \n",
    "                     feature_names = most_important_features,\n",
    "                     filled = True, \n",
    "                     max_depth = 3\n",
    "                    )"
   ]
  },
  {
   "cell_type": "markdown",
   "metadata": {},
   "source": [
    "在命令行执行以下命令将.dot文件转换为.png图像文件：\n",
    "\n",
    "`dot -Tpng images/tree_small.dot -o images/tree_small.png`\n",
    "\n",
    "然后使用相同的代码把生成的tree_small.png 显示出来"
   ]
  },
  {
   "cell_type": "code",
   "execution_count": null,
   "metadata": {},
   "outputs": [],
   "source": [
    "# 限制最大深度后的决策树长这样\n",
    "from IPython.display import Image\n",
    "Image(filename=\"F:/jupyter/machine-learning-project-walkthrough/images/tree_small.png\")"
   ]
  },
  {
   "cell_type": "markdown",
   "metadata": {},
   "source": [
    "还是有点大，将最大深度设置为 2"
   ]
  },
  {
   "cell_type": "code",
   "execution_count": null,
   "metadata": {},
   "outputs": [],
   "source": [
    "tree.export_graphviz(single_tree, \n",
    "                     out_file = 'images/tree_2.dot',\n",
    "                     rounded = True, \n",
    "                     feature_names = most_important_features,\n",
    "                     filled = True, \n",
    "                     max_depth = 2\n",
    "                    )"
   ]
  },
  {
   "cell_type": "code",
   "execution_count": null,
   "metadata": {
    "scrolled": false
   },
   "outputs": [],
   "source": [
    "from IPython.display import Image\n",
    "Image(filename=\"F:/jupyter/machine-learning-project-walkthrough/images/tree_2.png\")"
   ]
  },
  {
   "attachments": {
    "image.png": {
     "image/png": "[encoded data removed]"
    }
   },
   "cell_type": "markdown",
   "metadata": {},
   "source": [
    "\n",
    "这次好多了。下面我们以其中的一个节点为例进行解释\n",
    "\n",
    "\n",
    "![image.png](attachment:image.png)"
   ]
  },
  {
   "cell_type": "markdown",
   "metadata": {},
   "source": [
    "现在我们来看一下树，并尝试解释它的决定！\n",
    "\n",
    "思考决策树的最佳方式是像流程图一样解释一系列 Yes/No 问题。我们从顶部开始，这里称为根，然后沿着树向下移动，行进方向由每个等式的答案确定。例如，\n",
    "\n",
    "1. 我们在**根**这里提出的第一个问题是：`Site EUI`是否小于或等于15.95？\n",
    "\n",
    "   * 如果答案是**肯定**的，那么我们**向左移动**并提出问题：`Weather Normalized Site Electricity Intensity`是否小于或等于3.85？\n",
    "\n",
    "   * 如果答案是**否定**的，那么我们**向右移动**并提出问题：`Weather Normalized Site Electricity Intensity`是否小于或等于26.85？\n",
    "\n",
    "2. 我们继续这个迭代过程，直到我们到达树的底部并最终进入叶节点。在这里，我们预测的值对应于节点中显示的值（此树中的值似乎是实际预测除以100）。\n",
    "\n",
    "3. 每个节点有四个不同的信息：\n",
    "\n",
    "    * Question： 是关于数据点的一个特征的价值：这决定了我们是从右边还是左边走出节点\n",
    "    * mse： 是节点Error的度量\n",
    "    * samples： 是节点中的示例（数据点）的数量\n",
    "\n",
    "    * value; 是节点中所有sample的目标估计值"
   ]
  },
  {
   "cell_type": "markdown",
   "metadata": {},
   "source": [
    "我们可以看到，随着我们增加树的深度，我们将能够更好地拟合数据。\n",
    "\n",
    "* 对于小树，每个叶节点中将有许多示例，并且因为模型为节点中的每个示例估计相同的值，所以可能存在更大的错误（除非所有示例具有相同的目标值）。\n",
    "\n",
    "* 构造太大的树虽然可能导致过度拟合。\n",
    "\n",
    "* 我们可以控制许多超参数，这些参数决定了树的深度和每个叶子中的例子数量。当我们使用交叉验证执行优化时，我们看到了如何选择其中一些超参数。\n",
    "\n",
    "\n",
    "虽然我们无法检查模型中的每一棵树，但查看谋个树确实可以让我们了解我们的模型如何进行预测。实际上，这种基于流程图的方法看起来很像人类做出决策，一次回答一个关于单个值的问题。基于决策树的集合简单地采用单个决策树的概念并组合许多个体的预测，以便创建具有比单个估计器更小的方差的模型。树木的集合往往非常准确，也很直观！"
   ]
  },
  {
   "cell_type": "markdown",
   "metadata": {},
   "source": [
    "# 8.  得出结论&&记录发现"
   ]
  },
  {
   "cell_type": "markdown",
   "metadata": {},
   "source": [
    "## 8.1 得出结论\n",
    "\n",
    "机器学习管道的最后部分可能是最重要的：我们需要将我们学到的所有内容压缩成一个简短的摘要，仅突出最重要的发现。\n",
    "\n",
    "就此项目而言，我们很简洁地总结了我们的工作。 但是，在我们呈现和相应地定制信息时，了解我们的受众非常重要。 这是一个用来申请工作的“作业”，考虑到这一点，这是我们需要在30秒内介绍的项目内容：\n",
    "\n",
    "1. 使用纽约市的能源数据，可以建立一个模型，可以预测建筑物的能源之星得分，误差在10分以内。\n",
    "2. `The Site EUI` and `Weather Normalized Electricity Intensity` 是预测能源之星得分的最相关特征。\n",
    "\n",
    "如果有人要求提供详细信息，那么我们可以轻松地解释所有实施步骤，并展示我们（希望）有充分记录的工作。 机器学习项目的另一个重要方面是：\n",
    "* 你已经注解了所有代码并使其易于跟进！ \n",
    "* 你希望别人（或者你自己在几个月内）能够看到你的工作并完全理解你做出的决定。 \n",
    "\n",
    "理想情况下，你应该编写代码，以便再次使用它。 即使我们自己做项目，也可以练习正确的文档，当你想重新审视项目时，它会让你的生活更轻松。\n"
   ]
  },
  {
   "cell_type": "markdown",
   "metadata": {},
   "source": [
    "## 记录发现\n",
    "\n",
    "技术项目经常被忽视的部分是**文档和报告**。 我们可以在世界上做最好的分析，但如果我们没有清楚地传达我们发现的结果，那么它们就不会产生任何影响！当我们记录数据科学项目时，我们会采用所有版本的数据和代码并对其进行打包，以便我们的项目可以被其他数据科学家复制或构建。 重要的是要记住：\n",
    "\n",
    "* **阅读代码的频率高于编写代码**\n",
    "* **如果我们几个月后再回来的话，我们希望确保我们的工作对于其他人和我们自己都是可以理解的**,这意味着在代码中添加有用的注释并解释我们的推理。 \n",
    "\n",
    "Jupyter notebook 是一个很好的文档工具，因为它们允许一个接一个地解释和编码。Jupyter notebook 也可以成为将结果传达给他人的良好平台。 使用笔记本扩展，我们可以隐藏最终报告中的代码，因为虽然很难相信，但**并不是每个人都希望在文档中看到一堆Python代码**！此外还可以直接下载为pdf或html，然后与他人共享。\n",
    "\n",
    "\n",
    "完成Jupyter notebook后，原作者将其下载为`.tex`，在[texStudio](https://www.texstudio.org/)中进行了一些小改动，然后将其编译为pdf。最终版本看起来比默认的Jupyter Notebook pdf好一点，并且学习一些[latex](https://www.latex-project.org/)以创建更专业的报告是很有意义的！"
   ]
  },
  {
   "cell_type": "markdown",
   "metadata": {},
   "source": [
    "**结语**：\n",
    "\n",
    "现在是时候结束我们的这个项目了，如果你能从头看到尾，并且在自己的电脑上运行了所有代码，那不管是原作者还是我，都回会感到非常开心。希望现在你对如何处理机器学习项目有了一个宏观的了解。\n",
    "\n",
    "这里面大部分内容是Will Koehrsen在申请工作时做的，我对其中的一些内容做了改进，例如\n",
    "* **2.3 寻找关系**一节中的`查看所有的建筑物类型及其数量`等代码是我自己添加的，以便你对在此之前和在此之后的代码理解的更好；\n",
    "* 还针对一些内容添加了详细的说明，例如\"具有超过100个观测值的建筑类型\" 这句话是什么意思。\n",
    "\n",
    "如果你愿意，你可以先修改这个项目并尝试击败现有的模型！\n",
    "\n",
    "最后是一些有用的学习资源：\n",
    "1. [Hands-On Machine Learning with Scikit-Learn and Tensorflow](http://shop.oreilly.com/product/0636920052289.do)[中文笔记](https://github.com/DeqianBai/Hands-on-Machine-Learning)\n",
    "2. [An Introduction to Statistical Learning](http://www-bcf.usc.edu/~gareth/ISL/)\n",
    "3. [Kaggle: The Home of Data Science and Machine Learning](https://www.kaggle.com/)\n",
    "4. [Datacamp: Good Beginner Tutorials for Practicing Coding with a Focus on Data Science](https://www.datacamp.com/)\n",
    "5. [Dataquest: Hands on Lessons for Data Science Programming](https://www.dataquest.io/)"
   ]
  },
  {
   "cell_type": "markdown",
   "metadata": {},
   "source": []
  },
  {
   "cell_type": "code",
   "execution_count": null,
   "metadata": {},
   "outputs": [],
   "source": []
  }
 ],
 "metadata": {
  "kernelspec": {
   "display_name": "Python 3 (ipykernel)",
   "language": "python",
   "name": "python3"
  },
  "language_info": {
   "codemirror_mode": {
    "name": "ipython",
    "version": 3
   },
   "file_extension": ".py",
   "mimetype": "text/x-python",
   "name": "python",
   "nbconvert_exporter": "python",
   "pygments_lexer": "ipython3",
   "version": "3.10.4"
  }
 },
 "nbformat": 4,
 "nbformat_minor": 2
}
