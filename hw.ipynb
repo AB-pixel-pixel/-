{
 "cells": [
  {
   "cell_type": "markdown",
   "metadata": {},
   "source": [
    "\n",
    "# 基于随机森林算法的车辆接受度预测\n",
    "\n",
    "\n",
    "## 项目综述\n",
    "该课程项目是使用随机森林算法预测车辆的接受度。\n",
    "\n",
    "为了训练出一个合适的模型，我选择把树的棵树从1遍历到100。\n",
    "挑选一个得到了最优模型后，使用\n",
    "并观察这些表现最优的森林。项目使用基尼系数（GINI）作为树的分支划分算法。\n",
    "\n",
    "\n",
    "* 数据集为Kaggle上的[Car Evaluation Data Set](https://www.kaggle.com/datasets/elikplim/car-evaluation-data-set)。\n",
    "\n",
    "* 网上相关参考资料：\n",
    "    1. [Random Forest Classifier Tutorial](https://www.kaggle.com/code/prashant111/random-forest-classifier-tutorial)\n",
    "    2. [随机森林算法](https://zhuanlan.zhihu.com/p/58940946)\n"
   ]
  },
  {
   "cell_type": "markdown",
   "metadata": {},
   "source": [
    "# 目录 <a class=\"anchor\" id=\"0\"></a>\n",
    "\n",
    "1. [开发环境](#1) \n",
    "2. [数据清理和格式化](#2)\n",
    "3. [探索性数据分析](#3)\n",
    "4. [特征工程和特征选择](#4)\n",
    "5. [解释模型结果](#5)\n",
    "6. [得出结论](#6)"
   ]
  },
  {
   "cell_type": "markdown",
   "metadata": {},
   "source": [
    "# **1. 开发环境** <a class=\"anchor\" id=\"1\"></a>\n",
    "[目录](#0)\n",
    "\n",
    "**系统**\n",
    "* Ubuntu20.04\n",
    "\n",
    "**python版本及其库版本**\n",
    "* python 3.10.4\n",
    "* numpy 1.22.3\n",
    "* pandas 1.4.2\n",
    "* category_encoders 2.5.0\n",
    "* scikit-learn 1.0.1\n",
    "* matplotlib 3.5.3"
   ]
  },
  {
   "cell_type": "code",
   "execution_count": 65,
   "metadata": {},
   "outputs": [
    {
     "name": "stdout",
     "output_type": "stream",
     "text": [
      "./data/car_evaluation.csv\n"
     ]
    }
   ],
   "source": [
    "import numpy as np # linear algebra\n",
    "import pandas as pd # data processing, CSV file I/O (e.g. pd.read_csv)\n",
    "import matplotlib.pyplot as plt # data visualization\n",
    "import seaborn as sns # statistical data visualization\n",
    "%matplotlib inline\n",
    "\n",
    "import os\n",
    "for dirname, _, filenames in os.walk('./data'):\n",
    "    for filename in filenames:\n",
    "        print(os.path.join(dirname, filename))"
   ]
  },
  {
   "cell_type": "markdown",
   "metadata": {},
   "source": [
    "# 2. 数据清理和格式化<a class=\"anchor\" id=\"2\"></a>\n",
    "[目录](#0)\n",
    "\n",
    "## 2.1 加载、检查数据"
   ]
  },
  {
   "cell_type": "code",
   "execution_count": 66,
   "metadata": {},
   "outputs": [],
   "source": [
    "data_path = './data/car_evaluation.csv'\n",
    "\n",
    "dataset = pd.read_csv(data_path, header=None)"
   ]
  },
  {
   "cell_type": "code",
   "execution_count": 67,
   "metadata": {
    "scrolled": true
   },
   "outputs": [
    {
     "data": {
      "text/html": [
       "<div>\n",
       "<style scoped>\n",
       "    .dataframe tbody tr th:only-of-type {\n",
       "        vertical-align: middle;\n",
       "    }\n",
       "\n",
       "    .dataframe tbody tr th {\n",
       "        vertical-align: top;\n",
       "    }\n",
       "\n",
       "    .dataframe thead th {\n",
       "        text-align: right;\n",
       "    }\n",
       "</style>\n",
       "<table border=\"1\" class=\"dataframe\">\n",
       "  <thead>\n",
       "    <tr style=\"text-align: right;\">\n",
       "      <th></th>\n",
       "      <th>0</th>\n",
       "      <th>1</th>\n",
       "      <th>2</th>\n",
       "      <th>3</th>\n",
       "      <th>4</th>\n",
       "      <th>5</th>\n",
       "      <th>6</th>\n",
       "    </tr>\n",
       "  </thead>\n",
       "  <tbody>\n",
       "    <tr>\n",
       "      <th>0</th>\n",
       "      <td>vhigh</td>\n",
       "      <td>vhigh</td>\n",
       "      <td>2</td>\n",
       "      <td>2</td>\n",
       "      <td>small</td>\n",
       "      <td>low</td>\n",
       "      <td>unacc</td>\n",
       "    </tr>\n",
       "    <tr>\n",
       "      <th>1</th>\n",
       "      <td>vhigh</td>\n",
       "      <td>vhigh</td>\n",
       "      <td>2</td>\n",
       "      <td>2</td>\n",
       "      <td>small</td>\n",
       "      <td>med</td>\n",
       "      <td>unacc</td>\n",
       "    </tr>\n",
       "    <tr>\n",
       "      <th>2</th>\n",
       "      <td>vhigh</td>\n",
       "      <td>vhigh</td>\n",
       "      <td>2</td>\n",
       "      <td>2</td>\n",
       "      <td>small</td>\n",
       "      <td>high</td>\n",
       "      <td>unacc</td>\n",
       "    </tr>\n",
       "    <tr>\n",
       "      <th>3</th>\n",
       "      <td>vhigh</td>\n",
       "      <td>vhigh</td>\n",
       "      <td>2</td>\n",
       "      <td>2</td>\n",
       "      <td>med</td>\n",
       "      <td>low</td>\n",
       "      <td>unacc</td>\n",
       "    </tr>\n",
       "    <tr>\n",
       "      <th>4</th>\n",
       "      <td>vhigh</td>\n",
       "      <td>vhigh</td>\n",
       "      <td>2</td>\n",
       "      <td>2</td>\n",
       "      <td>med</td>\n",
       "      <td>med</td>\n",
       "      <td>unacc</td>\n",
       "    </tr>\n",
       "  </tbody>\n",
       "</table>\n",
       "</div>"
      ],
      "text/plain": [
       "       0      1  2  3      4     5      6\n",
       "0  vhigh  vhigh  2  2  small   low  unacc\n",
       "1  vhigh  vhigh  2  2  small   med  unacc\n",
       "2  vhigh  vhigh  2  2  small  high  unacc\n",
       "3  vhigh  vhigh  2  2    med   low  unacc\n",
       "4  vhigh  vhigh  2  2    med   med  unacc"
      ]
     },
     "execution_count": 67,
     "metadata": {},
     "output_type": "execute_result"
    }
   ],
   "source": [
    "dataset.head()"
   ]
  },
  {
   "cell_type": "code",
   "execution_count": 68,
   "metadata": {},
   "outputs": [
    {
     "data": {
      "text/plain": [
       "(1728, 7)"
      ]
     },
     "execution_count": 68,
     "metadata": {},
     "output_type": "execute_result"
    }
   ],
   "source": [
    "dataset.shape"
   ]
  },
  {
   "cell_type": "markdown",
   "metadata": {},
   "source": [
    "根据[数据集说明](https://www.kaggle.com/datasets/elikplim/car-evaluation-data-set)，数据集共有1728个样本。每个样本有7个属性，分别是：\n",
    "* 购买费用\n",
    "* 日常保养费用\n",
    "* 车门数\n",
    "* 载人数\n",
    "* 后备箱大小\n",
    "* 车辆安全程度\n",
    "* 接受度"
   ]
  },
  {
   "cell_type": "code",
   "execution_count": 69,
   "metadata": {},
   "outputs": [
    {
     "name": "stdout",
     "output_type": "stream",
     "text": [
      "<class 'pandas.core.frame.DataFrame'>\n",
      "RangeIndex: 1728 entries, 0 to 1727\n",
      "Data columns (total 7 columns):\n",
      " #   Column  Non-Null Count  Dtype \n",
      "---  ------  --------------  ----- \n",
      " 0   0       1728 non-null   object\n",
      " 1   1       1728 non-null   object\n",
      " 2   2       1728 non-null   object\n",
      " 3   3       1728 non-null   object\n",
      " 4   4       1728 non-null   object\n",
      " 5   5       1728 non-null   object\n",
      " 6   6       1728 non-null   object\n",
      "dtypes: object(7)\n",
      "memory usage: 94.6+ KB\n"
     ]
    }
   ],
   "source": [
    "dataset.info()"
   ]
  },
  {
   "cell_type": "markdown",
   "metadata": {},
   "source": [
    "## 2.2 重命名列名"
   ]
  },
  {
   "cell_type": "code",
   "execution_count": 70,
   "metadata": {
    "scrolled": false
   },
   "outputs": [
    {
     "data": {
      "text/html": [
       "<div>\n",
       "<style scoped>\n",
       "    .dataframe tbody tr th:only-of-type {\n",
       "        vertical-align: middle;\n",
       "    }\n",
       "\n",
       "    .dataframe tbody tr th {\n",
       "        vertical-align: top;\n",
       "    }\n",
       "\n",
       "    .dataframe thead th {\n",
       "        text-align: right;\n",
       "    }\n",
       "</style>\n",
       "<table border=\"1\" class=\"dataframe\">\n",
       "  <thead>\n",
       "    <tr style=\"text-align: right;\">\n",
       "      <th></th>\n",
       "      <th>buying_price</th>\n",
       "      <th>maintenance_price</th>\n",
       "      <th>doors_number</th>\n",
       "      <th>manned_capacity</th>\n",
       "      <th>luggage_rack_size</th>\n",
       "      <th>safety</th>\n",
       "      <th>class</th>\n",
       "    </tr>\n",
       "  </thead>\n",
       "  <tbody>\n",
       "    <tr>\n",
       "      <th>count</th>\n",
       "      <td>1728</td>\n",
       "      <td>1728</td>\n",
       "      <td>1728</td>\n",
       "      <td>1728</td>\n",
       "      <td>1728</td>\n",
       "      <td>1728</td>\n",
       "      <td>1728</td>\n",
       "    </tr>\n",
       "    <tr>\n",
       "      <th>unique</th>\n",
       "      <td>4</td>\n",
       "      <td>4</td>\n",
       "      <td>4</td>\n",
       "      <td>3</td>\n",
       "      <td>3</td>\n",
       "      <td>3</td>\n",
       "      <td>4</td>\n",
       "    </tr>\n",
       "    <tr>\n",
       "      <th>top</th>\n",
       "      <td>vhigh</td>\n",
       "      <td>vhigh</td>\n",
       "      <td>2</td>\n",
       "      <td>2</td>\n",
       "      <td>small</td>\n",
       "      <td>low</td>\n",
       "      <td>unacc</td>\n",
       "    </tr>\n",
       "    <tr>\n",
       "      <th>freq</th>\n",
       "      <td>432</td>\n",
       "      <td>432</td>\n",
       "      <td>432</td>\n",
       "      <td>576</td>\n",
       "      <td>576</td>\n",
       "      <td>576</td>\n",
       "      <td>1210</td>\n",
       "    </tr>\n",
       "  </tbody>\n",
       "</table>\n",
       "</div>"
      ],
      "text/plain": [
       "       buying_price maintenance_price doors_number manned_capacity  \\\n",
       "count          1728              1728         1728            1728   \n",
       "unique            4                 4            4               3   \n",
       "top           vhigh             vhigh            2               2   \n",
       "freq            432               432          432             576   \n",
       "\n",
       "       luggage_rack_size safety  class  \n",
       "count               1728   1728   1728  \n",
       "unique                 3      3      4  \n",
       "top                small    low  unacc  \n",
       "freq                 576    576   1210  "
      ]
     },
     "execution_count": 70,
     "metadata": {},
     "output_type": "execute_result"
    }
   ],
   "source": [
    "col_names = ['buying_price', 'maintenance_price', 'doors_number', 'manned_capacity',\n",
    "             'luggage_rack_size', 'safety', 'class']\n",
    "\n",
    "dataset.columns = col_names\n",
    "\n",
    "# 每列的统计信息\n",
    "dataset.describe()"
   ]
  },
  {
   "cell_type": "markdown",
   "metadata": {},
   "source": [
    "## 2.3 检查、处理缺失值"
   ]
  },
  {
   "cell_type": "markdown",
   "metadata": {},
   "source": [
    "数据集并无缺失值"
   ]
  },
  {
   "cell_type": "code",
   "execution_count": 71,
   "metadata": {},
   "outputs": [
    {
     "data": {
      "text/plain": [
       "buying_price         0\n",
       "maintenance_price    0\n",
       "doors_number         0\n",
       "manned_capacity      0\n",
       "luggage_rack_size    0\n",
       "safety               0\n",
       "class                0\n",
       "dtype: int64"
      ]
     },
     "execution_count": 71,
     "metadata": {},
     "output_type": "execute_result"
    }
   ],
   "source": [
    "dataset.isnull().sum()"
   ]
  },
  {
   "cell_type": "markdown",
   "metadata": {},
   "source": [
    "# 3. 探索性数据分析<a class=\"anchor\" id=\"3\"></a>\n"
   ]
  },
  {
   "cell_type": "markdown",
   "metadata": {},
   "source": [
    "发现样本中，除了class（目标变量），其他属性的分类出现了均分的情况"
   ]
  },
  {
   "cell_type": "code",
   "execution_count": 72,
   "metadata": {
    "scrolled": false
   },
   "outputs": [
    {
     "name": "stdout",
     "output_type": "stream",
     "text": [
      "vhigh    432\n",
      "high     432\n",
      "med      432\n",
      "low      432\n",
      "Name: buying_price, dtype: int64\n",
      "vhigh    432\n",
      "high     432\n",
      "med      432\n",
      "low      432\n",
      "Name: maintenance_price, dtype: int64\n",
      "2        432\n",
      "3        432\n",
      "4        432\n",
      "5more    432\n",
      "Name: doors_number, dtype: int64\n",
      "2       576\n",
      "4       576\n",
      "more    576\n",
      "Name: manned_capacity, dtype: int64\n",
      "small    576\n",
      "med      576\n",
      "big      576\n",
      "Name: luggage_rack_size, dtype: int64\n",
      "low     576\n",
      "med     576\n",
      "high    576\n",
      "Name: safety, dtype: int64\n",
      "unacc    1210\n",
      "acc       384\n",
      "good       69\n",
      "vgood      65\n",
      "Name: class, dtype: int64\n"
     ]
    }
   ],
   "source": [
    "for col in col_names:\n",
    "    print(dataset[col].value_counts())"
   ]
  },
  {
   "cell_type": "markdown",
   "metadata": {},
   "source": [
    "# 4. 特征工程 <a class=\"anchor\" id=\"4\"></a>"
   ]
  },
  {
   "cell_type": "markdown",
   "metadata": {},
   "source": [
    "因为本数据集中，样本的属性非常少，剔除某个属性会导致模型的训练的数据过少。\n",
    "所以，我并没有除去样本中的属性。"
   ]
  },
  {
   "cell_type": "markdown",
   "metadata": {},
   "source": [
    "## 4.1 划分训练集和测试级别"
   ]
  },
  {
   "cell_type": "markdown",
   "metadata": {},
   "source": [
    "按照2:1的比例，随机划分"
   ]
  },
  {
   "cell_type": "code",
   "execution_count": 73,
   "metadata": {
    "scrolled": true
   },
   "outputs": [
    {
     "data": {
      "text/plain": [
       "((1157, 6), (571, 6))"
      ]
     },
     "execution_count": 73,
     "metadata": {},
     "output_type": "execute_result"
    }
   ],
   "source": [
    "feature_data = dataset.drop(['class'],axis=1)\n",
    "\n",
    "target_variable = dataset['class']\n",
    "\n",
    "\n",
    "from sklearn.model_selection import train_test_split\n",
    "\n",
    "\n",
    "X_train, X_test, y_train, y_test = train_test_split(feature_data, target_variable, test_size = 0.33, random_state = 40)\n",
    "\n",
    "\n",
    "X_train.shape, X_test.shape"
   ]
  },
  {
   "cell_type": "markdown",
   "metadata": {},
   "source": [
    "## 4.2 特征编码"
   ]
  },
  {
   "cell_type": "code",
   "execution_count": 74,
   "metadata": {
    "scrolled": true
   },
   "outputs": [
    {
     "data": {
      "text/html": [
       "<div>\n",
       "<style scoped>\n",
       "    .dataframe tbody tr th:only-of-type {\n",
       "        vertical-align: middle;\n",
       "    }\n",
       "\n",
       "    .dataframe tbody tr th {\n",
       "        vertical-align: top;\n",
       "    }\n",
       "\n",
       "    .dataframe thead th {\n",
       "        text-align: right;\n",
       "    }\n",
       "</style>\n",
       "<table border=\"1\" class=\"dataframe\">\n",
       "  <thead>\n",
       "    <tr style=\"text-align: right;\">\n",
       "      <th></th>\n",
       "      <th>buying_price</th>\n",
       "      <th>maintenance_price</th>\n",
       "      <th>doors_number</th>\n",
       "      <th>manned_capacity</th>\n",
       "      <th>luggage_rack_size</th>\n",
       "      <th>safety</th>\n",
       "    </tr>\n",
       "  </thead>\n",
       "  <tbody>\n",
       "    <tr>\n",
       "      <th>660</th>\n",
       "      <td>1</td>\n",
       "      <td>1</td>\n",
       "      <td>1</td>\n",
       "      <td>1</td>\n",
       "      <td>1</td>\n",
       "      <td>1</td>\n",
       "    </tr>\n",
       "    <tr>\n",
       "      <th>1447</th>\n",
       "      <td>2</td>\n",
       "      <td>2</td>\n",
       "      <td>2</td>\n",
       "      <td>1</td>\n",
       "      <td>2</td>\n",
       "      <td>2</td>\n",
       "    </tr>\n",
       "    <tr>\n",
       "      <th>829</th>\n",
       "      <td>1</td>\n",
       "      <td>3</td>\n",
       "      <td>3</td>\n",
       "      <td>2</td>\n",
       "      <td>3</td>\n",
       "      <td>2</td>\n",
       "    </tr>\n",
       "    <tr>\n",
       "      <th>1336</th>\n",
       "      <td>2</td>\n",
       "      <td>4</td>\n",
       "      <td>2</td>\n",
       "      <td>1</td>\n",
       "      <td>1</td>\n",
       "      <td>2</td>\n",
       "    </tr>\n",
       "    <tr>\n",
       "      <th>581</th>\n",
       "      <td>1</td>\n",
       "      <td>2</td>\n",
       "      <td>2</td>\n",
       "      <td>1</td>\n",
       "      <td>1</td>\n",
       "      <td>3</td>\n",
       "    </tr>\n",
       "  </tbody>\n",
       "</table>\n",
       "</div>"
      ],
      "text/plain": [
       "      buying_price  maintenance_price  doors_number  manned_capacity  \\\n",
       "660              1                  1             1                1   \n",
       "1447             2                  2             2                1   \n",
       "829              1                  3             3                2   \n",
       "1336             2                  4             2                1   \n",
       "581              1                  2             2                1   \n",
       "\n",
       "      luggage_rack_size  safety  \n",
       "660                   1       1  \n",
       "1447                  2       2  \n",
       "829                   3       2  \n",
       "1336                  1       2  \n",
       "581                   1       3  "
      ]
     },
     "execution_count": 74,
     "metadata": {},
     "output_type": "execute_result"
    }
   ],
   "source": [
    "import category_encoders as ce\n",
    "\n",
    "encoder = ce.OrdinalEncoder(cols=['buying_price', 'maintenance_price', 'doors_number', 'manned_capacity',\n",
    "             'luggage_rack_size', 'safety'])\n",
    "\n",
    "X_train = encoder.fit_transform(X_train)\n",
    "\n",
    "X_test = encoder.transform(X_test)\n",
    "\n",
    "# 展示各种向量\n",
    "X_train.head()"
   ]
  },
  {
   "cell_type": "markdown",
   "metadata": {},
   "source": [
    "## 4.3 训练模型\n",
    "\n",
    "**训练随机森林分类器**"
   ]
  },
  {
   "cell_type": "code",
   "execution_count": 75,
   "metadata": {},
   "outputs": [],
   "source": [
    "# 需要sklearn.ensemble.RandomForestClassifier , sklearn.metrics.accuracy_score\n",
    "def train_model(X_train,y_train,X_test,y_test,tree_num,show_detail=0):\n",
    "    # 训练\n",
    "    counter = 0\n",
    "    treenums = range(1,tree_num+1)\n",
    "    models = [RandomForestClassifier(num,random_state=0)for num in treenums]\n",
    "    accuracy_sorces = np.zeros(tree_num)\n",
    "    \n",
    "    \n",
    "    \n",
    "    if show_detail != 0:\n",
    "        for model in models:\n",
    "            model.fit(X_train,y_train)\n",
    "            y_pred = model.predict(X_test)\n",
    "            accuracy_sorces[counter] = accuracy_score(y_test, y_pred)\n",
    "            print('{}颗决策树的随机森林模型精确度 : {}'. format(treenums[counter],accuracy_sorces[counter]))\n",
    "            counter+=1\n",
    "        \n",
    "    else:\n",
    "        for model in models:\n",
    "            model.fit(X_train,y_train)\n",
    "            y_pred = model.predict(X_test)\n",
    "            accuracy_sorces[counter] = accuracy_score(y_test, y_pred)\n",
    "            counter+=1\n",
    "    \n",
    "    finest_model_indexes = choose_finest_model(accuracy_sorces,treenums)\n",
    "    \n",
    "    visualize_accuracy(accuracy_sorces,tree_num)\n",
    "    \n",
    "    return [models[index] for index in finest_model_indexes]\n",
    "\n",
    "\n",
    "\n",
    "def choose_finest_model(accuracy_sorces,treenums):\n",
    "    # 挑选\n",
    "    max_sorce = np.max(accuracy_sorces)\n",
    "    max_sorce_indexes = np.where(accuracy_sorces==max_sorce)[0]\n",
    "    for i in max_sorce_indexes:\n",
    "        print('{}颗决策树的随机森林,'.format(treenums[i]))\n",
    "    \n",
    "    print('为精确度最大的模型\\n精确度：{}'.format(max_sorce))\n",
    "    return max_sorce_indexes\n",
    "\n",
    "def visualize_accuracy(accuracy_sorces,tree_num):\n",
    "    x = range(1,tree_num+1)\n",
    "    plt.plot(x,accuracy_sorces)\n",
    "    plt.xlabel('tree_number')\n",
    "    plt.ylabel('accuracy score')\n",
    "    plt.show()\n",
    "    \n"
   ]
  },
  {
   "cell_type": "markdown",
   "metadata": {},
   "source": [
    "**挑选局部最优的模型**\n",
    "\n",
    "下图展示了树的数量和准确率的关系"
   ]
  },
  {
   "cell_type": "code",
   "execution_count": 76,
   "metadata": {},
   "outputs": [
    {
     "name": "stdout",
     "output_type": "stream",
     "text": [
      "61颗决策树的随机森林,\n",
      "63颗决策树的随机森林,\n",
      "67颗决策树的随机森林,\n",
      "76颗决策树的随机森林,\n",
      "为精确度最大的模型\n",
      "精确度：0.9719789842381786\n"
     ]
    },
    {
     "data": {
      "image/png": "[encoded data removed]",
      "text/plain": [
       "<Figure size 640x480 with 1 Axes>"
      ]
     },
     "metadata": {},
     "output_type": "display_data"
    }
   ],
   "source": [
    "from sklearn.ensemble import RandomForestClassifier\n",
    "from sklearn.metrics import accuracy_score\n",
    "\n",
    "finest_models = train_model(X_train,y_train,X_test,y_test,tree_num=100,show_detail=0)"
   ]
  },
  {
   "cell_type": "markdown",
   "metadata": {},
   "source": [
    "## 4.4 特征重要性评估\n",
    "\n",
    "我们可以利用模型，评估数据集中的特征重要性，进行特征筛选。\n",
    "\n",
    "如下图，综合最优秀模型的共性，luggage_rack_size和doors_number是最不重要的特征，重要性均在0.1以下。而safety是最重要的特征。\n"
   ]
  },
  {
   "cell_type": "code",
   "execution_count": 77,
   "metadata": {},
   "outputs": [],
   "source": [
    "def visualize_feature_scores(model):\n",
    "    feature_scores = pd.Series(model.feature_importances_, index=X_train.columns).sort_values(ascending=False)\n",
    "    sns.barplot(x=feature_scores, y=feature_scores.index)\n",
    "    plt.xlabel('Feature Importance Score')\n",
    "    plt.ylabel('Features')\n",
    "    plt.title(\"Visualizing Important Features\")\n",
    "    plt.show()"
   ]
  },
  {
   "cell_type": "code",
   "execution_count": 78,
   "metadata": {
    "scrolled": true
   },
   "outputs": [
    {
     "data": {
      "image/png": "[encoded data removed]",
      "text/plain": [
       "<Figure size 640x480 with 1 Axes>"
      ]
     },
     "metadata": {},
     "output_type": "display_data"
    },
    {
     "name": "stdout",
     "output_type": "stream",
     "text": [
      "\n"
     ]
    },
    {
     "data": {
      "image/png": "[encoded data removed]",
      "text/plain": [
       "<Figure size 640x480 with 1 Axes>"
      ]
     },
     "metadata": {},
     "output_type": "display_data"
    },
    {
     "name": "stdout",
     "output_type": "stream",
     "text": [
      "\n"
     ]
    },
    {
     "data": {
      "image/png": "[encoded data removed]",
      "text/plain": [
       "<Figure size 640x480 with 1 Axes>"
      ]
     },
     "metadata": {},
     "output_type": "display_data"
    },
    {
     "name": "stdout",
     "output_type": "stream",
     "text": [
      "\n"
     ]
    },
    {
     "data": {
      "image/png": "[encoded data removed]",
      "text/plain": [
       "<Figure size 640x480 with 1 Axes>"
      ]
     },
     "metadata": {},
     "output_type": "display_data"
    },
    {
     "name": "stdout",
     "output_type": "stream",
     "text": [
      "\n"
     ]
    }
   ],
   "source": [
    "for model in finest_models:\n",
    "    visualize_feature_scores(model)\n",
    "    print()"
   ]
  },
  {
   "cell_type": "markdown",
   "metadata": {},
   "source": [
    "## 4.5 模型表现评估\n",
    "\n",
    "我们选择Confusion matrix来观察模型在具体的类别中的判断情况\n",
    "\n",
    "可以发现，他们的判断情况完全一致"
   ]
  },
  {
   "cell_type": "code",
   "execution_count": 79,
   "metadata": {
    "scrolled": false
   },
   "outputs": [
    {
     "name": "stdout",
     "output_type": "stream",
     "text": [
      "Confusion matrix\n",
      "\n",
      " [[120   0   4   1]\n",
      " [  3  13   0   1]\n",
      " [  6   0 402   0]\n",
      " [  1   0   0  20]]\n",
      "\n",
      "\n",
      "\n",
      "              precision    recall  f1-score   support\n",
      "\n",
      "         acc       0.92      0.96      0.94       125\n",
      "        good       1.00      0.76      0.87        17\n",
      "       unacc       0.99      0.99      0.99       408\n",
      "       vgood       0.91      0.95      0.93        21\n",
      "\n",
      "    accuracy                           0.97       571\n",
      "   macro avg       0.96      0.92      0.93       571\n",
      "weighted avg       0.97      0.97      0.97       571\n",
      "\n",
      "******************************************************************************************\n",
      "Confusion matrix\n",
      "\n",
      " [[120   0   4   1]\n",
      " [  3  13   0   1]\n",
      " [  6   0 402   0]\n",
      " [  1   0   0  20]]\n",
      "\n",
      "\n",
      "\n",
      "              precision    recall  f1-score   support\n",
      "\n",
      "         acc       0.92      0.96      0.94       125\n",
      "        good       1.00      0.76      0.87        17\n",
      "       unacc       0.99      0.99      0.99       408\n",
      "       vgood       0.91      0.95      0.93        21\n",
      "\n",
      "    accuracy                           0.97       571\n",
      "   macro avg       0.96      0.92      0.93       571\n",
      "weighted avg       0.97      0.97      0.97       571\n",
      "\n",
      "******************************************************************************************\n",
      "Confusion matrix\n",
      "\n",
      " [[120   0   4   1]\n",
      " [  3  13   0   1]\n",
      " [  6   0 402   0]\n",
      " [  1   0   0  20]]\n",
      "\n",
      "\n",
      "\n",
      "              precision    recall  f1-score   support\n",
      "\n",
      "         acc       0.92      0.96      0.94       125\n",
      "        good       1.00      0.76      0.87        17\n",
      "       unacc       0.99      0.99      0.99       408\n",
      "       vgood       0.91      0.95      0.93        21\n",
      "\n",
      "    accuracy                           0.97       571\n",
      "   macro avg       0.96      0.92      0.93       571\n",
      "weighted avg       0.97      0.97      0.97       571\n",
      "\n",
      "******************************************************************************************\n",
      "Confusion matrix\n",
      "\n",
      " [[120   0   4   1]\n",
      " [  3  13   0   1]\n",
      " [  6   0 402   0]\n",
      " [  1   0   0  20]]\n",
      "\n",
      "\n",
      "\n",
      "              precision    recall  f1-score   support\n",
      "\n",
      "         acc       0.92      0.96      0.94       125\n",
      "        good       1.00      0.76      0.87        17\n",
      "       unacc       0.99      0.99      0.99       408\n",
      "       vgood       0.91      0.95      0.93        21\n",
      "\n",
      "    accuracy                           0.97       571\n",
      "   macro avg       0.96      0.92      0.93       571\n",
      "weighted avg       0.97      0.97      0.97       571\n",
      "\n",
      "******************************************************************************************\n"
     ]
    }
   ],
   "source": [
    "from sklearn.metrics import confusion_matrix\n",
    "from sklearn.metrics import classification_report\n",
    "\n",
    "\n",
    "def check_model_by_confusion_matrix(model,X_test,y_test):\n",
    "    y_pred = model.predict(X_test)\n",
    "    cm = confusion_matrix(y_test, y_pred)\n",
    "    print('Confusion matrix\\n\\n', cm)\n",
    "    print('\\n\\n')\n",
    "    print(classification_report(y_test, y_pred))\n",
    "    print('*'*90)\n",
    "    \n",
    "for model in finest_models:\n",
    "    check_model_by_confusion_matrix(model,X_test,y_test)"
   ]
  },
  {
   "cell_type": "markdown",
   "metadata": {},
   "source": [
    "## 5 模型结果分析<a class=\"anchor\" id=\"5\"></a>\n",
    "\n",
    "* 随机森林模型对于这个非常小的数据集，树的数量一开始的增加可以较大程度上提高模型的准确度，但是"
   ]
  },
  {
   "cell_type": "code",
   "execution_count": null,
   "metadata": {},
   "outputs": [],
   "source": []
  }
 ],
 "metadata": {
  "kernelspec": {
   "display_name": "Python 3 (ipykernel)",
   "language": "python",
   "name": "python3"
  },
  "language_info": {
   "codemirror_mode": {
    "name": "ipython",
    "version": 3
   },
   "file_extension": ".py",
   "mimetype": "text/x-python",
   "name": "python",
   "nbconvert_exporter": "python",
   "pygments_lexer": "ipython3",
   "version": "3.10.4"
  }
 },
 "nbformat": 4,
 "nbformat_minor": 2
}
